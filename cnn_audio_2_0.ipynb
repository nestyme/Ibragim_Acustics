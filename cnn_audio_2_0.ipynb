{
 "cells": [
  {
   "cell_type": "markdown",
   "metadata": {},
   "source": [
    "### Classification audio files with cnn1d"
   ]
  },
  {
   "cell_type": "code",
   "execution_count": 59,
   "metadata": {},
   "outputs": [],
   "source": [
    "%matplotlib inline  \n",
    "import gc\n",
    "import pickle\n",
    "import random\n",
    "from multiprocessing import Pool\n",
    "from scipy.io.wavfile import read, write\n",
    "import numpy as np\n",
    "import pandas as pd\n",
    "from keras import optimizers, losses, activations, models\n",
    "from keras.callbacks import ModelCheckpoint, EarlyStopping, LearningRateScheduler\n",
    "from keras.layers import Dense, Input, Dropout, Convolution1D, MaxPool1D, GlobalMaxPool1D, GlobalAveragePooling1D, \\\n",
    "    concatenate\n",
    "import os\n",
    "from numpy import random\n",
    "import librosa\n",
    "import numpy as np\n",
    "import glob\n",
    "import os\n",
    "import pandas as pd\n",
    "from PIL import Image\n",
    "import numpy as np\n",
    "import matplotlib.pyplot as plt\n",
    "import pydub\n",
    "from random import shuffle\n",
    "from sklearn.model_selection import train_test_split\n",
    "from tqdm import tqdm"
   ]
  },
  {
   "cell_type": "code",
   "execution_count": 60,
   "metadata": {},
   "outputs": [],
   "source": [
    "input_length = 16000*2\n",
    "\n",
    "batch_size = 32\n",
    "\n",
    "def audio_norm(data):\n",
    "\n",
    "    max_data = np.max(data)\n",
    "    min_data = np.min(data)\n",
    "    data = (data-min_data)/(max_data-min_data+0.0001)\n",
    "    return data-0.5\n",
    "\n",
    "\n",
    "def load_audio_file(file_path, input_length=input_length):\n",
    "    data = librosa.core.load(file_path, sr=16000)[0] \n",
    "    if len(data)>input_length:\n",
    "        \n",
    "        \n",
    "        max_offset = len(data)-input_length\n",
    "        \n",
    "        offset = np.random.randint(max_offset)\n",
    "        \n",
    "        data = data[offset:(input_length+offset)]\n",
    "        \n",
    "        \n",
    "    else:\n",
    "        \n",
    "        max_offset = input_length - len(data)\n",
    "        \n",
    "        offset = np.random.randint(max_offset)\n",
    "        \n",
    "        \n",
    "        data = np.pad(data, (offset, input_length - len(data) - offset), \"constant\")\n",
    "        \n",
    "        \n",
    "    data = audio_norm(data)\n",
    "    return data"
   ]
  },
  {
   "cell_type": "code",
   "execution_count": 61,
   "metadata": {},
   "outputs": [],
   "source": [
    "train_files = glob.glob(\"audio/*.wav\")\n",
    "#test_files = glob.glob(\"../input/audio_test/*.wav\")\n",
    "train_labels = pd.read_csv(\"Small.csv\")\n",
    "data = train_labels"
   ]
  },
  {
   "cell_type": "code",
   "execution_count": 62,
   "metadata": {},
   "outputs": [],
   "source": [
    "train_labels=train_labels.drop('Unnamed: 0',axis=1)"
   ]
  },
  {
   "cell_type": "code",
   "execution_count": 63,
   "metadata": {},
   "outputs": [
    {
     "name": "stdout",
     "output_type": "stream",
     "text": [
      "<pandas.core.groupby.DataFrameGroupBy object at 0x7f9833c1bda0>\n"
     ]
    }
   ],
   "source": [
    "print(data.groupby('Class'))"
   ]
  },
  {
   "cell_type": "code",
   "execution_count": 64,
   "metadata": {},
   "outputs": [
    {
     "data": {
      "text/html": [
       "<div>\n",
       "<style scoped>\n",
       "    .dataframe tbody tr th:only-of-type {\n",
       "        vertical-align: middle;\n",
       "    }\n",
       "\n",
       "    .dataframe tbody tr th {\n",
       "        vertical-align: top;\n",
       "    }\n",
       "\n",
       "    .dataframe thead th {\n",
       "        text-align: right;\n",
       "    }\n",
       "</style>\n",
       "<table border=\"1\" class=\"dataframe\">\n",
       "  <thead>\n",
       "    <tr style=\"text-align: right;\">\n",
       "      <th></th>\n",
       "      <th>path</th>\n",
       "      <th>size</th>\n",
       "      <th>Class</th>\n",
       "    </tr>\n",
       "  </thead>\n",
       "  <tbody>\n",
       "    <tr>\n",
       "      <th>0</th>\n",
       "      <td>audio/background_0045_time_stretch_7.wav</td>\n",
       "      <td>254502</td>\n",
       "      <td>background</td>\n",
       "    </tr>\n",
       "    <tr>\n",
       "      <th>1</th>\n",
       "      <td>audio/knocking_door_0002.wav</td>\n",
       "      <td>254494</td>\n",
       "      <td>knocking_door</td>\n",
       "    </tr>\n",
       "    <tr>\n",
       "      <th>2</th>\n",
       "      <td>audio/ring_0433.wav</td>\n",
       "      <td>254464</td>\n",
       "      <td>ring</td>\n",
       "    </tr>\n",
       "    <tr>\n",
       "      <th>3</th>\n",
       "      <td>audio/background_0057_time_stretch_0.wav</td>\n",
       "      <td>254366</td>\n",
       "      <td>background</td>\n",
       "    </tr>\n",
       "    <tr>\n",
       "      <th>4</th>\n",
       "      <td>audio/background_0012_time_stretch_13.wav</td>\n",
       "      <td>254270</td>\n",
       "      <td>background</td>\n",
       "    </tr>\n",
       "  </tbody>\n",
       "</table>\n",
       "</div>"
      ],
      "text/plain": [
       "                                        path    size          Class\n",
       "0   audio/background_0045_time_stretch_7.wav  254502     background\n",
       "1               audio/knocking_door_0002.wav  254494  knocking_door\n",
       "2                        audio/ring_0433.wav  254464           ring\n",
       "3   audio/background_0057_time_stretch_0.wav  254366     background\n",
       "4  audio/background_0012_time_stretch_13.wav  254270     background"
      ]
     },
     "execution_count": 64,
     "metadata": {},
     "output_type": "execute_result"
    }
   ],
   "source": [
    "train_labels.head()"
   ]
  },
  {
   "cell_type": "code",
   "execution_count": 65,
   "metadata": {},
   "outputs": [],
   "source": [
    "Classes = train_labels['Class'].unique()"
   ]
  },
  {
   "cell_type": "code",
   "execution_count": 66,
   "metadata": {},
   "outputs": [],
   "source": [
    "train_labels.head()\n",
    "paths = train_labels['path']"
   ]
  },
  {
   "cell_type": "code",
   "execution_count": 67,
   "metadata": {},
   "outputs": [
    {
     "data": {
      "text/plain": [
       "0          audio/background_0045_time_stretch_7.wav\n",
       "1                      audio/knocking_door_0002.wav\n",
       "2                               audio/ring_0433.wav\n",
       "3          audio/background_0057_time_stretch_0.wav\n",
       "4         audio/background_0012_time_stretch_13.wav\n",
       "5          audio/background_0052_time_stretch_0.wav\n",
       "6          audio/background_0031_time_stretch_9.wav\n",
       "7          audio/background_0011_time_stretch_9.wav\n",
       "8                audio/bags_0034_time_stretch_3.wav\n",
       "9          audio/background_0041_time_stretch_7.wav\n",
       "10             audio/t_door_0074_time_stretch_2.wav\n",
       "11               audio/door_0032_time_stretch_7.wav\n",
       "12         audio/background_0058_time_stretch_8.wav\n",
       "13               audio/bags_0034_time_stretch_0.wav\n",
       "14                              audio/ring_0644.wav\n",
       "15                          audio/keyboard_0003.wav\n",
       "16                            audio/speech_0028.wav\n",
       "17                            audio/speech_0041.wav\n",
       "18                        audio/t_keyboard_0047.wav\n",
       "19                            audio/speech_0038.wav\n",
       "20            audio/t_door_0003_time_stretch_10.wav\n",
       "21         audio/background_0021_time_stretch_6.wav\n",
       "22         audio/background_0055_time_stretch_5.wav\n",
       "23               audio/door_0033_time_stretch_9.wav\n",
       "24         audio/background_0015_time_stretch_5.wav\n",
       "25      audio/knocking_door_0022_time_stretch_7.wav\n",
       "26        audio/background_0058_time_stretch_12.wav\n",
       "27               audio/bags_0016_time_stretch_3.wav\n",
       "28               audio/bags_0010_time_stretch_1.wav\n",
       "29                              audio/ring_0444.wav\n",
       "                           ...                     \n",
       "9276                audio/d_0104_time_stretch_4.wav\n",
       "9277               audio/d_0107_time_stretch_10.wav\n",
       "9278                               audio/d_0104.wav\n",
       "9279                audio/d_0107_time_stretch_8.wav\n",
       "9280                               audio/d_0105.wav\n",
       "9281                audio/d_0106_time_stretch_8.wav\n",
       "9282                               audio/d_0106.wav\n",
       "9283                audio/d_0107_time_stretch_4.wav\n",
       "9284                               audio/d_0107.wav\n",
       "9285                audio/d_0105_time_stretch_2.wav\n",
       "9286                audio/d_0107_time_stretch_7.wav\n",
       "9287                audio/d_0108_time_stretch_9.wav\n",
       "9288                audio/d_0102_time_stretch_1.wav\n",
       "9289                audio/d_0108_time_stretch_4.wav\n",
       "9290                audio/d_0108_time_stretch_1.wav\n",
       "9291               audio/d_0108_time_stretch_10.wav\n",
       "9292               audio/d_0108_time_stretch_13.wav\n",
       "9293               audio/d_0108_time_stretch_11.wav\n",
       "9294                audio/d_0108_time_stretch_6.wav\n",
       "9295                audio/d_0108_time_stretch_3.wav\n",
       "9296                audio/k_0128_time_stretch_3.wav\n",
       "9297                audio/d_0108_time_stretch_7.wav\n",
       "9298                audio/k_0128_time_stretch_1.wav\n",
       "9299                               audio/k_0128.wav\n",
       "9300                audio/d_0108_time_stretch_2.wav\n",
       "9301                audio/d_0108_time_stretch_5.wav\n",
       "9302                               audio/d_0108.wav\n",
       "9303                audio/k_0128_time_stretch_0.wav\n",
       "9304                audio/d_0108_time_stretch_0.wav\n",
       "9305                audio/d_0108_time_stretch_8.wav\n",
       "Name: path, Length: 9306, dtype: object"
      ]
     },
     "execution_count": 67,
     "metadata": {},
     "output_type": "execute_result"
    }
   ],
   "source": [
    "paths"
   ]
  },
  {
   "cell_type": "code",
   "execution_count": 68,
   "metadata": {
    "scrolled": true
   },
   "outputs": [],
   "source": [
    "cnt_classes={'background': 1126,\n",
    " 'bags': 2362,\n",
    " 'door': 5778,\n",
    " 'keyboard': 7003,\n",
    " 'knocking_door': 8659,\n",
    " 'ring': 9372,\n",
    " 'speech': 9648,\n",
    " 'tool': 11307}"
   ]
  },
  {
   "cell_type": "code",
   "execution_count": 69,
   "metadata": {},
   "outputs": [
    {
     "data": {
      "text/plain": [
       "'knocking_door'"
      ]
     },
     "execution_count": 69,
     "metadata": {},
     "output_type": "execute_result"
    }
   ],
   "source": [
    "train_labels['Class'][1658]"
   ]
  },
  {
   "cell_type": "code",
   "execution_count": 73,
   "metadata": {},
   "outputs": [],
   "source": [
    "train_labels.head()\n",
    "train_labels.columns=['Name','size','Class']"
   ]
  },
  {
   "cell_type": "code",
   "execution_count": 74,
   "metadata": {},
   "outputs": [
    {
     "data": {
      "text/plain": [
       "<pandas.core.groupby.DataFrameGroupBy object at 0x7f9833c5ffd0>"
      ]
     },
     "execution_count": 74,
     "metadata": {},
     "output_type": "execute_result"
    }
   ],
   "source": [
    "train_labels.groupby(['Class'][0])"
   ]
  },
  {
   "cell_type": "code",
   "execution_count": 75,
   "metadata": {},
   "outputs": [],
   "source": [
    "file_to_label = {\"audio/\" + k:v for k,v in zip(train_labels.Name.values, train_labels.Class.values)}"
   ]
  },
  {
   "cell_type": "code",
   "execution_count": 76,
   "metadata": {},
   "outputs": [
    {
     "data": {
      "text/plain": [
       "'background'"
      ]
     },
     "execution_count": 76,
     "metadata": {},
     "output_type": "execute_result"
    }
   ],
   "source": [
    "train_labels['Class'][0]"
   ]
  },
  {
   "cell_type": "code",
   "execution_count": 77,
   "metadata": {},
   "outputs": [],
   "source": [
    "sizes=[] \n",
    "for i in range(len(paths)):\n",
    "    sizes.append(os.path.getsize(paths[i]))"
   ]
  },
  {
   "cell_type": "code",
   "execution_count": 78,
   "metadata": {},
   "outputs": [],
   "source": [
    "d = {'path':paths, 'size':sizes,'Class':train_labels['Class']}\n",
    "df=pd.DataFrame(data=d, columns=['path','size','Class'])"
   ]
  },
  {
   "cell_type": "code",
   "execution_count": 79,
   "metadata": {},
   "outputs": [
    {
     "data": {
      "text/html": [
       "<div>\n",
       "<style scoped>\n",
       "    .dataframe tbody tr th:only-of-type {\n",
       "        vertical-align: middle;\n",
       "    }\n",
       "\n",
       "    .dataframe tbody tr th {\n",
       "        vertical-align: top;\n",
       "    }\n",
       "\n",
       "    .dataframe thead th {\n",
       "        text-align: right;\n",
       "    }\n",
       "</style>\n",
       "<table border=\"1\" class=\"dataframe\">\n",
       "  <thead>\n",
       "    <tr style=\"text-align: right;\">\n",
       "      <th></th>\n",
       "      <th>path</th>\n",
       "      <th>size</th>\n",
       "      <th>Class</th>\n",
       "    </tr>\n",
       "  </thead>\n",
       "  <tbody>\n",
       "    <tr>\n",
       "      <th>0</th>\n",
       "      <td>audio/background_0045_time_stretch_7.wav</td>\n",
       "      <td>254502</td>\n",
       "      <td>background</td>\n",
       "    </tr>\n",
       "    <tr>\n",
       "      <th>1</th>\n",
       "      <td>audio/knocking_door_0002.wav</td>\n",
       "      <td>254494</td>\n",
       "      <td>knocking_door</td>\n",
       "    </tr>\n",
       "    <tr>\n",
       "      <th>2</th>\n",
       "      <td>audio/ring_0433.wav</td>\n",
       "      <td>254464</td>\n",
       "      <td>ring</td>\n",
       "    </tr>\n",
       "    <tr>\n",
       "      <th>3</th>\n",
       "      <td>audio/background_0057_time_stretch_0.wav</td>\n",
       "      <td>254366</td>\n",
       "      <td>background</td>\n",
       "    </tr>\n",
       "    <tr>\n",
       "      <th>4</th>\n",
       "      <td>audio/background_0012_time_stretch_13.wav</td>\n",
       "      <td>254270</td>\n",
       "      <td>background</td>\n",
       "    </tr>\n",
       "  </tbody>\n",
       "</table>\n",
       "</div>"
      ],
      "text/plain": [
       "                                        path    size          Class\n",
       "0   audio/background_0045_time_stretch_7.wav  254502     background\n",
       "1               audio/knocking_door_0002.wav  254494  knocking_door\n",
       "2                        audio/ring_0433.wav  254464           ring\n",
       "3   audio/background_0057_time_stretch_0.wav  254366     background\n",
       "4  audio/background_0012_time_stretch_13.wav  254270     background"
      ]
     },
     "execution_count": 79,
     "metadata": {},
     "output_type": "execute_result"
    }
   ],
   "source": [
    "df.head()"
   ]
  },
  {
   "cell_type": "code",
   "execution_count": 80,
   "metadata": {},
   "outputs": [],
   "source": [
    "df = df.sort_values(by='size',ascending=False)\n",
    "df = df.reset_index()"
   ]
  },
  {
   "cell_type": "code",
   "execution_count": 81,
   "metadata": {},
   "outputs": [
    {
     "data": {
      "text/html": [
       "<div>\n",
       "<style scoped>\n",
       "    .dataframe tbody tr th:only-of-type {\n",
       "        vertical-align: middle;\n",
       "    }\n",
       "\n",
       "    .dataframe tbody tr th {\n",
       "        vertical-align: top;\n",
       "    }\n",
       "\n",
       "    .dataframe thead th {\n",
       "        text-align: right;\n",
       "    }\n",
       "</style>\n",
       "<table border=\"1\" class=\"dataframe\">\n",
       "  <thead>\n",
       "    <tr style=\"text-align: right;\">\n",
       "      <th></th>\n",
       "      <th>index</th>\n",
       "      <th>path</th>\n",
       "      <th>size</th>\n",
       "      <th>Class</th>\n",
       "    </tr>\n",
       "  </thead>\n",
       "  <tbody>\n",
       "    <tr>\n",
       "      <th>0</th>\n",
       "      <td>0</td>\n",
       "      <td>audio/background_0045_time_stretch_7.wav</td>\n",
       "      <td>254502</td>\n",
       "      <td>background</td>\n",
       "    </tr>\n",
       "    <tr>\n",
       "      <th>1</th>\n",
       "      <td>1</td>\n",
       "      <td>audio/knocking_door_0002.wav</td>\n",
       "      <td>254494</td>\n",
       "      <td>knocking_door</td>\n",
       "    </tr>\n",
       "    <tr>\n",
       "      <th>2</th>\n",
       "      <td>2</td>\n",
       "      <td>audio/ring_0433.wav</td>\n",
       "      <td>254464</td>\n",
       "      <td>ring</td>\n",
       "    </tr>\n",
       "    <tr>\n",
       "      <th>3</th>\n",
       "      <td>3</td>\n",
       "      <td>audio/background_0057_time_stretch_0.wav</td>\n",
       "      <td>254366</td>\n",
       "      <td>background</td>\n",
       "    </tr>\n",
       "    <tr>\n",
       "      <th>4</th>\n",
       "      <td>4</td>\n",
       "      <td>audio/background_0012_time_stretch_13.wav</td>\n",
       "      <td>254270</td>\n",
       "      <td>background</td>\n",
       "    </tr>\n",
       "    <tr>\n",
       "      <th>5</th>\n",
       "      <td>5</td>\n",
       "      <td>audio/background_0052_time_stretch_0.wav</td>\n",
       "      <td>254262</td>\n",
       "      <td>background</td>\n",
       "    </tr>\n",
       "    <tr>\n",
       "      <th>6</th>\n",
       "      <td>6</td>\n",
       "      <td>audio/background_0031_time_stretch_9.wav</td>\n",
       "      <td>254184</td>\n",
       "      <td>background</td>\n",
       "    </tr>\n",
       "    <tr>\n",
       "      <th>7</th>\n",
       "      <td>7</td>\n",
       "      <td>audio/background_0011_time_stretch_9.wav</td>\n",
       "      <td>254066</td>\n",
       "      <td>background</td>\n",
       "    </tr>\n",
       "    <tr>\n",
       "      <th>8</th>\n",
       "      <td>8</td>\n",
       "      <td>audio/bags_0034_time_stretch_3.wav</td>\n",
       "      <td>253810</td>\n",
       "      <td>bags</td>\n",
       "    </tr>\n",
       "    <tr>\n",
       "      <th>9</th>\n",
       "      <td>9</td>\n",
       "      <td>audio/background_0041_time_stretch_7.wav</td>\n",
       "      <td>253806</td>\n",
       "      <td>background</td>\n",
       "    </tr>\n",
       "    <tr>\n",
       "      <th>10</th>\n",
       "      <td>10</td>\n",
       "      <td>audio/t_door_0074_time_stretch_2.wav</td>\n",
       "      <td>253780</td>\n",
       "      <td>door</td>\n",
       "    </tr>\n",
       "    <tr>\n",
       "      <th>11</th>\n",
       "      <td>11</td>\n",
       "      <td>audio/door_0032_time_stretch_7.wav</td>\n",
       "      <td>253754</td>\n",
       "      <td>door</td>\n",
       "    </tr>\n",
       "    <tr>\n",
       "      <th>12</th>\n",
       "      <td>12</td>\n",
       "      <td>audio/background_0058_time_stretch_8.wav</td>\n",
       "      <td>253736</td>\n",
       "      <td>background</td>\n",
       "    </tr>\n",
       "    <tr>\n",
       "      <th>13</th>\n",
       "      <td>13</td>\n",
       "      <td>audio/bags_0034_time_stretch_0.wav</td>\n",
       "      <td>253490</td>\n",
       "      <td>bags</td>\n",
       "    </tr>\n",
       "    <tr>\n",
       "      <th>14</th>\n",
       "      <td>17</td>\n",
       "      <td>audio/speech_0041.wav</td>\n",
       "      <td>253470</td>\n",
       "      <td>speech</td>\n",
       "    </tr>\n",
       "    <tr>\n",
       "      <th>15</th>\n",
       "      <td>18</td>\n",
       "      <td>audio/t_keyboard_0047.wav</td>\n",
       "      <td>253470</td>\n",
       "      <td>keyboard</td>\n",
       "    </tr>\n",
       "    <tr>\n",
       "      <th>16</th>\n",
       "      <td>19</td>\n",
       "      <td>audio/speech_0038.wav</td>\n",
       "      <td>253470</td>\n",
       "      <td>speech</td>\n",
       "    </tr>\n",
       "    <tr>\n",
       "      <th>17</th>\n",
       "      <td>16</td>\n",
       "      <td>audio/speech_0028.wav</td>\n",
       "      <td>253470</td>\n",
       "      <td>speech</td>\n",
       "    </tr>\n",
       "    <tr>\n",
       "      <th>18</th>\n",
       "      <td>15</td>\n",
       "      <td>audio/keyboard_0003.wav</td>\n",
       "      <td>253470</td>\n",
       "      <td>keyboard</td>\n",
       "    </tr>\n",
       "    <tr>\n",
       "      <th>19</th>\n",
       "      <td>14</td>\n",
       "      <td>audio/ring_0644.wav</td>\n",
       "      <td>253470</td>\n",
       "      <td>ring</td>\n",
       "    </tr>\n",
       "    <tr>\n",
       "      <th>20</th>\n",
       "      <td>20</td>\n",
       "      <td>audio/t_door_0003_time_stretch_10.wav</td>\n",
       "      <td>253434</td>\n",
       "      <td>door</td>\n",
       "    </tr>\n",
       "    <tr>\n",
       "      <th>21</th>\n",
       "      <td>21</td>\n",
       "      <td>audio/background_0021_time_stretch_6.wav</td>\n",
       "      <td>253358</td>\n",
       "      <td>background</td>\n",
       "    </tr>\n",
       "    <tr>\n",
       "      <th>22</th>\n",
       "      <td>22</td>\n",
       "      <td>audio/background_0055_time_stretch_5.wav</td>\n",
       "      <td>253128</td>\n",
       "      <td>background</td>\n",
       "    </tr>\n",
       "    <tr>\n",
       "      <th>23</th>\n",
       "      <td>23</td>\n",
       "      <td>audio/door_0033_time_stretch_9.wav</td>\n",
       "      <td>253006</td>\n",
       "      <td>door</td>\n",
       "    </tr>\n",
       "    <tr>\n",
       "      <th>24</th>\n",
       "      <td>24</td>\n",
       "      <td>audio/background_0015_time_stretch_5.wav</td>\n",
       "      <td>252978</td>\n",
       "      <td>background</td>\n",
       "    </tr>\n",
       "    <tr>\n",
       "      <th>25</th>\n",
       "      <td>25</td>\n",
       "      <td>audio/knocking_door_0022_time_stretch_7.wav</td>\n",
       "      <td>252758</td>\n",
       "      <td>knocking_door</td>\n",
       "    </tr>\n",
       "    <tr>\n",
       "      <th>26</th>\n",
       "      <td>26</td>\n",
       "      <td>audio/background_0058_time_stretch_12.wav</td>\n",
       "      <td>252580</td>\n",
       "      <td>background</td>\n",
       "    </tr>\n",
       "    <tr>\n",
       "      <th>27</th>\n",
       "      <td>27</td>\n",
       "      <td>audio/bags_0016_time_stretch_3.wav</td>\n",
       "      <td>252534</td>\n",
       "      <td>bags</td>\n",
       "    </tr>\n",
       "    <tr>\n",
       "      <th>28</th>\n",
       "      <td>28</td>\n",
       "      <td>audio/bags_0010_time_stretch_1.wav</td>\n",
       "      <td>252512</td>\n",
       "      <td>bags</td>\n",
       "    </tr>\n",
       "    <tr>\n",
       "      <th>29</th>\n",
       "      <td>29</td>\n",
       "      <td>audio/ring_0444.wav</td>\n",
       "      <td>252480</td>\n",
       "      <td>ring</td>\n",
       "    </tr>\n",
       "    <tr>\n",
       "      <th>...</th>\n",
       "      <td>...</td>\n",
       "      <td>...</td>\n",
       "      <td>...</td>\n",
       "      <td>...</td>\n",
       "    </tr>\n",
       "    <tr>\n",
       "      <th>70</th>\n",
       "      <td>70</td>\n",
       "      <td>audio/t_door_0025_time_stretch_9.wav</td>\n",
       "      <td>249638</td>\n",
       "      <td>door</td>\n",
       "    </tr>\n",
       "    <tr>\n",
       "      <th>71</th>\n",
       "      <td>71</td>\n",
       "      <td>audio/t_door_0088_time_stretch_7.wav</td>\n",
       "      <td>249630</td>\n",
       "      <td>door</td>\n",
       "    </tr>\n",
       "    <tr>\n",
       "      <th>72</th>\n",
       "      <td>72</td>\n",
       "      <td>audio/k_0051_time_stretch_2.wav</td>\n",
       "      <td>249626</td>\n",
       "      <td>keyboard</td>\n",
       "    </tr>\n",
       "    <tr>\n",
       "      <th>73</th>\n",
       "      <td>73</td>\n",
       "      <td>audio/tt_kd_0013_time_stretch_7.wav</td>\n",
       "      <td>249456</td>\n",
       "      <td>knocking_door</td>\n",
       "    </tr>\n",
       "    <tr>\n",
       "      <th>74</th>\n",
       "      <td>74</td>\n",
       "      <td>audio/t_bags_0012_time_stretch_3.wav</td>\n",
       "      <td>249238</td>\n",
       "      <td>bags</td>\n",
       "    </tr>\n",
       "    <tr>\n",
       "      <th>75</th>\n",
       "      <td>75</td>\n",
       "      <td>audio/t_door_0001_time_stretch_9.wav</td>\n",
       "      <td>248918</td>\n",
       "      <td>door</td>\n",
       "    </tr>\n",
       "    <tr>\n",
       "      <th>76</th>\n",
       "      <td>76</td>\n",
       "      <td>audio/k_0050_time_stretch_3.wav</td>\n",
       "      <td>248884</td>\n",
       "      <td>keyboard</td>\n",
       "    </tr>\n",
       "    <tr>\n",
       "      <th>77</th>\n",
       "      <td>77</td>\n",
       "      <td>audio/tt_kd_0022_time_stretch_2.wav</td>\n",
       "      <td>248818</td>\n",
       "      <td>knocking_door</td>\n",
       "    </tr>\n",
       "    <tr>\n",
       "      <th>78</th>\n",
       "      <td>78</td>\n",
       "      <td>audio/bg_0041_time_stretch_3.wav</td>\n",
       "      <td>248794</td>\n",
       "      <td>bags</td>\n",
       "    </tr>\n",
       "    <tr>\n",
       "      <th>79</th>\n",
       "      <td>79</td>\n",
       "      <td>audio/background_0035_time_stretch_9.wav</td>\n",
       "      <td>248758</td>\n",
       "      <td>background</td>\n",
       "    </tr>\n",
       "    <tr>\n",
       "      <th>80</th>\n",
       "      <td>80</td>\n",
       "      <td>audio/door_0027_time_stretch_10.wav</td>\n",
       "      <td>248700</td>\n",
       "      <td>door</td>\n",
       "    </tr>\n",
       "    <tr>\n",
       "      <th>81</th>\n",
       "      <td>81</td>\n",
       "      <td>audio/background_0012_time_stretch_2.wav</td>\n",
       "      <td>248384</td>\n",
       "      <td>background</td>\n",
       "    </tr>\n",
       "    <tr>\n",
       "      <th>82</th>\n",
       "      <td>82</td>\n",
       "      <td>audio/ring_0059.wav</td>\n",
       "      <td>248250</td>\n",
       "      <td>ring</td>\n",
       "    </tr>\n",
       "    <tr>\n",
       "      <th>83</th>\n",
       "      <td>83</td>\n",
       "      <td>audio/knocking_door_0026_time_stretch_2.wav</td>\n",
       "      <td>248210</td>\n",
       "      <td>knocking_door</td>\n",
       "    </tr>\n",
       "    <tr>\n",
       "      <th>84</th>\n",
       "      <td>84</td>\n",
       "      <td>audio/t_door_0055_time_stretch_3.wav</td>\n",
       "      <td>248110</td>\n",
       "      <td>door</td>\n",
       "    </tr>\n",
       "    <tr>\n",
       "      <th>85</th>\n",
       "      <td>85</td>\n",
       "      <td>audio/background_0038_time_stretch_13.wav</td>\n",
       "      <td>248084</td>\n",
       "      <td>background</td>\n",
       "    </tr>\n",
       "    <tr>\n",
       "      <th>86</th>\n",
       "      <td>86</td>\n",
       "      <td>audio/t_ring_0055.wav</td>\n",
       "      <td>247758</td>\n",
       "      <td>ring</td>\n",
       "    </tr>\n",
       "    <tr>\n",
       "      <th>87</th>\n",
       "      <td>87</td>\n",
       "      <td>audio/background_0037_time_stretch_0.wav</td>\n",
       "      <td>247740</td>\n",
       "      <td>background</td>\n",
       "    </tr>\n",
       "    <tr>\n",
       "      <th>88</th>\n",
       "      <td>88</td>\n",
       "      <td>audio/door_0027_time_stretch_3.wav</td>\n",
       "      <td>247734</td>\n",
       "      <td>door</td>\n",
       "    </tr>\n",
       "    <tr>\n",
       "      <th>89</th>\n",
       "      <td>89</td>\n",
       "      <td>audio/door_0001_time_stretch_2.wav</td>\n",
       "      <td>247674</td>\n",
       "      <td>door</td>\n",
       "    </tr>\n",
       "    <tr>\n",
       "      <th>90</th>\n",
       "      <td>90</td>\n",
       "      <td>audio/t_keyboard_0065_time_stretch_1.wav</td>\n",
       "      <td>247664</td>\n",
       "      <td>keyboard</td>\n",
       "    </tr>\n",
       "    <tr>\n",
       "      <th>91</th>\n",
       "      <td>91</td>\n",
       "      <td>audio/bags_0017_time_stretch_1.wav</td>\n",
       "      <td>247592</td>\n",
       "      <td>bags</td>\n",
       "    </tr>\n",
       "    <tr>\n",
       "      <th>92</th>\n",
       "      <td>92</td>\n",
       "      <td>audio/background_0041_time_stretch_1.wav</td>\n",
       "      <td>247578</td>\n",
       "      <td>background</td>\n",
       "    </tr>\n",
       "    <tr>\n",
       "      <th>93</th>\n",
       "      <td>93</td>\n",
       "      <td>audio/t_bags_0035_time_stretch_3.wav</td>\n",
       "      <td>247456</td>\n",
       "      <td>bags</td>\n",
       "    </tr>\n",
       "    <tr>\n",
       "      <th>94</th>\n",
       "      <td>94</td>\n",
       "      <td>audio/background_0022_time_stretch_4.wav</td>\n",
       "      <td>247332</td>\n",
       "      <td>background</td>\n",
       "    </tr>\n",
       "    <tr>\n",
       "      <th>95</th>\n",
       "      <td>95</td>\n",
       "      <td>audio/k_0033_time_stretch_3.wav</td>\n",
       "      <td>247276</td>\n",
       "      <td>keyboard</td>\n",
       "    </tr>\n",
       "    <tr>\n",
       "      <th>96</th>\n",
       "      <td>96</td>\n",
       "      <td>audio/knocking_door_0037_time_stretch_1.wav</td>\n",
       "      <td>247204</td>\n",
       "      <td>knocking_door</td>\n",
       "    </tr>\n",
       "    <tr>\n",
       "      <th>97</th>\n",
       "      <td>97</td>\n",
       "      <td>audio/background_0029_time_stretch_9.wav</td>\n",
       "      <td>246944</td>\n",
       "      <td>background</td>\n",
       "    </tr>\n",
       "    <tr>\n",
       "      <th>98</th>\n",
       "      <td>98</td>\n",
       "      <td>audio/knocking_door_0011_time_stretch_9.wav</td>\n",
       "      <td>246896</td>\n",
       "      <td>knocking_door</td>\n",
       "    </tr>\n",
       "    <tr>\n",
       "      <th>99</th>\n",
       "      <td>99</td>\n",
       "      <td>audio/t_door_0027_time_stretch_9.wav</td>\n",
       "      <td>246778</td>\n",
       "      <td>door</td>\n",
       "    </tr>\n",
       "  </tbody>\n",
       "</table>\n",
       "<p>100 rows × 4 columns</p>\n",
       "</div>"
      ],
      "text/plain": [
       "    index                                         path    size          Class\n",
       "0       0     audio/background_0045_time_stretch_7.wav  254502     background\n",
       "1       1                 audio/knocking_door_0002.wav  254494  knocking_door\n",
       "2       2                          audio/ring_0433.wav  254464           ring\n",
       "3       3     audio/background_0057_time_stretch_0.wav  254366     background\n",
       "4       4    audio/background_0012_time_stretch_13.wav  254270     background\n",
       "5       5     audio/background_0052_time_stretch_0.wav  254262     background\n",
       "6       6     audio/background_0031_time_stretch_9.wav  254184     background\n",
       "7       7     audio/background_0011_time_stretch_9.wav  254066     background\n",
       "8       8           audio/bags_0034_time_stretch_3.wav  253810           bags\n",
       "9       9     audio/background_0041_time_stretch_7.wav  253806     background\n",
       "10     10         audio/t_door_0074_time_stretch_2.wav  253780           door\n",
       "11     11           audio/door_0032_time_stretch_7.wav  253754           door\n",
       "12     12     audio/background_0058_time_stretch_8.wav  253736     background\n",
       "13     13           audio/bags_0034_time_stretch_0.wav  253490           bags\n",
       "14     17                        audio/speech_0041.wav  253470         speech\n",
       "15     18                    audio/t_keyboard_0047.wav  253470       keyboard\n",
       "16     19                        audio/speech_0038.wav  253470         speech\n",
       "17     16                        audio/speech_0028.wav  253470         speech\n",
       "18     15                      audio/keyboard_0003.wav  253470       keyboard\n",
       "19     14                          audio/ring_0644.wav  253470           ring\n",
       "20     20        audio/t_door_0003_time_stretch_10.wav  253434           door\n",
       "21     21     audio/background_0021_time_stretch_6.wav  253358     background\n",
       "22     22     audio/background_0055_time_stretch_5.wav  253128     background\n",
       "23     23           audio/door_0033_time_stretch_9.wav  253006           door\n",
       "24     24     audio/background_0015_time_stretch_5.wav  252978     background\n",
       "25     25  audio/knocking_door_0022_time_stretch_7.wav  252758  knocking_door\n",
       "26     26    audio/background_0058_time_stretch_12.wav  252580     background\n",
       "27     27           audio/bags_0016_time_stretch_3.wav  252534           bags\n",
       "28     28           audio/bags_0010_time_stretch_1.wav  252512           bags\n",
       "29     29                          audio/ring_0444.wav  252480           ring\n",
       "..    ...                                          ...     ...            ...\n",
       "70     70         audio/t_door_0025_time_stretch_9.wav  249638           door\n",
       "71     71         audio/t_door_0088_time_stretch_7.wav  249630           door\n",
       "72     72              audio/k_0051_time_stretch_2.wav  249626       keyboard\n",
       "73     73          audio/tt_kd_0013_time_stretch_7.wav  249456  knocking_door\n",
       "74     74         audio/t_bags_0012_time_stretch_3.wav  249238           bags\n",
       "75     75         audio/t_door_0001_time_stretch_9.wav  248918           door\n",
       "76     76              audio/k_0050_time_stretch_3.wav  248884       keyboard\n",
       "77     77          audio/tt_kd_0022_time_stretch_2.wav  248818  knocking_door\n",
       "78     78             audio/bg_0041_time_stretch_3.wav  248794           bags\n",
       "79     79     audio/background_0035_time_stretch_9.wav  248758     background\n",
       "80     80          audio/door_0027_time_stretch_10.wav  248700           door\n",
       "81     81     audio/background_0012_time_stretch_2.wav  248384     background\n",
       "82     82                          audio/ring_0059.wav  248250           ring\n",
       "83     83  audio/knocking_door_0026_time_stretch_2.wav  248210  knocking_door\n",
       "84     84         audio/t_door_0055_time_stretch_3.wav  248110           door\n",
       "85     85    audio/background_0038_time_stretch_13.wav  248084     background\n",
       "86     86                        audio/t_ring_0055.wav  247758           ring\n",
       "87     87     audio/background_0037_time_stretch_0.wav  247740     background\n",
       "88     88           audio/door_0027_time_stretch_3.wav  247734           door\n",
       "89     89           audio/door_0001_time_stretch_2.wav  247674           door\n",
       "90     90     audio/t_keyboard_0065_time_stretch_1.wav  247664       keyboard\n",
       "91     91           audio/bags_0017_time_stretch_1.wav  247592           bags\n",
       "92     92     audio/background_0041_time_stretch_1.wav  247578     background\n",
       "93     93         audio/t_bags_0035_time_stretch_3.wav  247456           bags\n",
       "94     94     audio/background_0022_time_stretch_4.wav  247332     background\n",
       "95     95              audio/k_0033_time_stretch_3.wav  247276       keyboard\n",
       "96     96  audio/knocking_door_0037_time_stretch_1.wav  247204  knocking_door\n",
       "97     97     audio/background_0029_time_stretch_9.wav  246944     background\n",
       "98     98  audio/knocking_door_0011_time_stretch_9.wav  246896  knocking_door\n",
       "99     99         audio/t_door_0027_time_stretch_9.wav  246778           door\n",
       "\n",
       "[100 rows x 4 columns]"
      ]
     },
     "execution_count": 81,
     "metadata": {},
     "output_type": "execute_result"
    }
   ],
   "source": [
    "df.head(100)"
   ]
  },
  {
   "cell_type": "code",
   "execution_count": 82,
   "metadata": {},
   "outputs": [],
   "source": [
    "df=df.drop('index',axis=1)"
   ]
  },
  {
   "cell_type": "code",
   "execution_count": 83,
   "metadata": {},
   "outputs": [
    {
     "data": {
      "text/plain": [
       "'knocking_door'"
      ]
     },
     "execution_count": 83,
     "metadata": {},
     "output_type": "execute_result"
    }
   ],
   "source": [
    "train_labels['Class'][1658]"
   ]
  },
  {
   "cell_type": "code",
   "execution_count": 91,
   "metadata": {
    "scrolled": true
   },
   "outputs": [
    {
     "data": {
      "image/png": "[encoded data removed]",
      "text/plain": [
       "<Figure size 1440x360 with 1 Axes>"
      ]
     },
     "metadata": {},
     "output_type": "display_data"
    }
   ],
   "source": [
    "a = []\n",
    "for i in range(len(df)):\n",
    "    a.append(i)\n",
    "plt.figure(figsize=(20,5))\n",
    "plt.grid()\n",
    "plt.plot(a,df['size'])\n",
    "plt.show()"
   ]
  },
  {
   "cell_type": "code",
   "execution_count": 95,
   "metadata": {},
   "outputs": [],
   "source": [
    "df_1=df[::2000]\n",
    "df_2=df[2001:5000]\n",
    "df_3=df[5001::]"
   ]
  },
  {
   "cell_type": "code",
   "execution_count": 96,
   "metadata": {},
   "outputs": [],
   "source": [
    "df_1.to_csv('small.txt')\n",
    "df_2.to_csv('mid.txt')\n",
    "df_3.to_csv('large.txt')"
   ]
  },
  {
   "cell_type": "code",
   "execution_count": 97,
   "metadata": {},
   "outputs": [
    {
     "data": {
      "text/plain": [
       "'audio/d_0014_time_stretch_3.wav'"
      ]
     },
     "execution_count": 97,
     "metadata": {},
     "output_type": "execute_result"
    }
   ],
   "source": [
    "train_files[1]"
   ]
  },
  {
   "cell_type": "markdown",
   "metadata": {},
   "source": [
    "## concate files"
   ]
  },
  {
   "cell_type": "code",
   "execution_count": 99,
   "metadata": {},
   "outputs": [
    {
     "data": {
      "image/png": "[encoded data removed]",
      "text/plain": [
       "<Figure size 1008x576 with 1 Axes>"
      ]
     },
     "metadata": {},
     "output_type": "display_data"
    }
   ],
   "source": [
    "data_base = load_audio_file(train_files[1])\n",
    "fig = plt.figure(figsize=(14, 8))\n",
    "#plt.title('Raw wave : %s ' % (file_to_label[train_files[0]]))\n",
    "plt.ylabel('Amplitude')\n",
    "plt.plot(np.linspace(0, 1, input_length), data_base)\n",
    "plt.show()"
   ]
  },
  {
   "cell_type": "code",
   "execution_count": 100,
   "metadata": {},
   "outputs": [],
   "source": [
    "list_labels = sorted(list(set(train_labels.Class.values)))"
   ]
  },
  {
   "cell_type": "code",
   "execution_count": 101,
   "metadata": {},
   "outputs": [
    {
     "data": {
      "text/plain": [
       "['background',\n",
       " 'bags',\n",
       " 'door',\n",
       " 'keyboard',\n",
       " 'knocking_door',\n",
       " 'ring',\n",
       " 'speech',\n",
       " 'tool']"
      ]
     },
     "execution_count": 101,
     "metadata": {},
     "output_type": "execute_result"
    }
   ],
   "source": [
    "list_labels"
   ]
  },
  {
   "cell_type": "code",
   "execution_count": 102,
   "metadata": {},
   "outputs": [],
   "source": [
    "label_to_int = {k:v for v,k in enumerate(list_labels)}"
   ]
  },
  {
   "cell_type": "code",
   "execution_count": 103,
   "metadata": {},
   "outputs": [],
   "source": [
    "int_to_label = {v:k for k,v in label_to_int.items()}"
   ]
  },
  {
   "cell_type": "code",
   "execution_count": 104,
   "metadata": {},
   "outputs": [],
   "source": [
    "file_to_int = {k:label_to_int[v] for k,v in file_to_label.items()}"
   ]
  },
  {
   "cell_type": "code",
   "execution_count": 105,
   "metadata": {},
   "outputs": [],
   "source": [
    "def get_model():\n",
    "    nclass = len(list_labels)\n",
    "    inp = Input(shape=(input_length, 1))\n",
    "    img_1 = Convolution1D(16, kernel_size=9, activation=activations.relu, padding=\"valid\")(inp)\n",
    "    img_1 = Convolution1D(16, kernel_size=9, activation=activations.relu, padding=\"valid\")(img_1)\n",
    "    img_1 = MaxPool1D(pool_size=16)(img_1)\n",
    "    img_1 = Dropout(rate=0.1)(img_1)\n",
    "    img_1 = Convolution1D(32, kernel_size=3, activation=activations.relu, padding=\"valid\")(img_1)\n",
    "    img_1 = Convolution1D(32, kernel_size=3, activation=activations.relu, padding=\"valid\")(img_1)\n",
    "    img_1 = MaxPool1D(pool_size=4)(img_1)\n",
    "    img_1 = Dropout(rate=0.1)(img_1)\n",
    "    img_1 = Convolution1D(32, kernel_size=3, activation=activations.relu, padding=\"valid\")(img_1)\n",
    "    img_1 = Convolution1D(32, kernel_size=3, activation=activations.relu, padding=\"valid\")(img_1)\n",
    "    img_1 = MaxPool1D(pool_size=4)(img_1)\n",
    "    img_1 = Dropout(rate=0.1)(img_1)\n",
    "    img_1 = Convolution1D(256, kernel_size=3, activation=activations.relu, padding=\"valid\")(img_1)\n",
    "    img_1 = Convolution1D(256, kernel_size=3, activation=activations.relu, padding=\"valid\")(img_1)\n",
    "    img_1 = GlobalMaxPool1D()(img_1)\n",
    "    img_1 = Dropout(rate=0.2)(img_1)\n",
    "\n",
    "    dense_1 = Dense(64, activation=activations.relu)(img_1)\n",
    "    dense_1 = Dense(1028, activation=activations.relu)(dense_1)\n",
    "    dense_1 = Dense(nclass, activation=activations.softmax)(dense_1)\n",
    "\n",
    "    model = models.Model(inputs=inp, outputs=dense_1)\n",
    "    opt = optimizers.Adam(0.0001)\n",
    "\n",
    "    model.compile(optimizer=opt, loss=losses.sparse_categorical_crossentropy, metrics=['acc'])\n",
    "    model.summary()\n",
    "    return model"
   ]
  },
  {
   "cell_type": "code",
   "execution_count": 106,
   "metadata": {},
   "outputs": [],
   "source": [
    "def chunker(seq, size):\n",
    "    return (seq[pos:pos + size] for pos in range(0, len(seq), size))"
   ]
  },
  {
   "cell_type": "code",
   "execution_count": 107,
   "metadata": {},
   "outputs": [],
   "source": [
    "def train_generator(list_files, batch_size=batch_size):\n",
    "    while True:\n",
    "        shuffle(list_files)\n",
    "        for batch_files in chunker(list_files, size=batch_size):\n",
    "            batch_data = [load_audio_file(fpath) for fpath in batch_files]\n",
    "            batch_data = np.array(batch_data)[:,:,np.newaxis]\n",
    "            batch_labels = [file_to_int[fpath] for fpath in batch_files]\n",
    "            batch_labels = np.array(batch_labels)\n",
    "            #print(batch_data)\n",
    "            print(batch_data.shape)\n",
    "            print('++++++++++++++++++++++++++++++++++++')\n",
    "            print(batch_labels)\n",
    "            yield batch_data, batch_labels\n",
    "            "
   ]
  },
  {
   "cell_type": "code",
   "execution_count": 108,
   "metadata": {},
   "outputs": [],
   "source": [
    "tr_files, val_files = train_test_split(train_files, test_size=0.1)"
   ]
  },
  {
   "cell_type": "code",
   "execution_count": 109,
   "metadata": {},
   "outputs": [],
   "source": [
    "import os\n",
    "os.environ[\"CUDA_VISIBLE_DEVICES\"]=\"1\""
   ]
  },
  {
   "cell_type": "code",
   "execution_count": 111,
   "metadata": {},
   "outputs": [
    {
     "name": "stdout",
     "output_type": "stream",
     "text": [
      "_________________________________________________________________\n",
      "Layer (type)                 Output Shape              Param #   \n",
      "=================================================================\n",
      "input_2 (InputLayer)         (None, 32000, 1)          0         \n",
      "_________________________________________________________________\n",
      "conv1d_9 (Conv1D)            (None, 31992, 16)         160       \n",
      "_________________________________________________________________\n",
      "conv1d_10 (Conv1D)           (None, 31984, 16)         2320      \n",
      "_________________________________________________________________\n",
      "max_pooling1d_4 (MaxPooling1 (None, 1999, 16)          0         \n",
      "_________________________________________________________________\n",
      "dropout_5 (Dropout)          (None, 1999, 16)          0         \n",
      "_________________________________________________________________\n",
      "conv1d_11 (Conv1D)           (None, 1997, 32)          1568      \n",
      "_________________________________________________________________\n",
      "conv1d_12 (Conv1D)           (None, 1995, 32)          3104      \n",
      "_________________________________________________________________\n",
      "max_pooling1d_5 (MaxPooling1 (None, 498, 32)           0         \n",
      "_________________________________________________________________\n",
      "dropout_6 (Dropout)          (None, 498, 32)           0         \n",
      "_________________________________________________________________\n",
      "conv1d_13 (Conv1D)           (None, 496, 32)           3104      \n",
      "_________________________________________________________________\n",
      "conv1d_14 (Conv1D)           (None, 494, 32)           3104      \n",
      "_________________________________________________________________\n",
      "max_pooling1d_6 (MaxPooling1 (None, 123, 32)           0         \n",
      "_________________________________________________________________\n",
      "dropout_7 (Dropout)          (None, 123, 32)           0         \n",
      "_________________________________________________________________\n",
      "conv1d_15 (Conv1D)           (None, 121, 256)          24832     \n",
      "_________________________________________________________________\n",
      "conv1d_16 (Conv1D)           (None, 119, 256)          196864    \n",
      "_________________________________________________________________\n",
      "global_max_pooling1d_2 (Glob (None, 256)               0         \n",
      "_________________________________________________________________\n",
      "dropout_8 (Dropout)          (None, 256)               0         \n",
      "_________________________________________________________________\n",
      "dense_4 (Dense)              (None, 64)                16448     \n",
      "_________________________________________________________________\n",
      "dense_5 (Dense)              (None, 1028)              66820     \n",
      "_________________________________________________________________\n",
      "dense_6 (Dense)              (None, 8)                 8232      \n",
      "=================================================================\n",
      "Total params: 326,556\n",
      "Trainable params: 326,556\n",
      "Non-trainable params: 0\n",
      "_________________________________________________________________\n"
     ]
    }
   ],
   "source": [
    "model = get_model()"
   ]
  },
  {
   "cell_type": "code",
   "execution_count": 112,
   "metadata": {},
   "outputs": [],
   "source": [
    "batch_size = 32"
   ]
  },
  {
   "cell_type": "code",
   "execution_count": 113,
   "metadata": {},
   "outputs": [],
   "source": [
    "model.save_weights(\"cnn15.h5\")"
   ]
  },
  {
   "cell_type": "code",
   "execution_count": null,
   "metadata": {
    "scrolled": true
   },
   "outputs": [
    {
     "name": "stderr",
     "output_type": "stream",
     "text": [
      "/home/nestyme/anaconda3/lib/python3.5/site-packages/keras/engine/training.py:2087: UserWarning: Using a generator with `use_multiprocessing=True` and multiple workers may duplicate your data. Please consider using the`keras.utils.Sequence class.\n",
      "  UserWarning('Using a generator with `use_multiprocessing=True`'\n"
     ]
    },
    {
     "name": "stdout",
     "output_type": "stream",
     "text": [
      "Epoch 1/5\n",
      "(32, 32000, 1)\n",
      "++++++++++++++++++++++++++++++++++++\n",
      "[2 2 5 4 5 4 4 2 5 2 1 0 2 2 4 2 6 7 4 1 3 2 6 0 4 1 0 4 6 2 3 7]\n",
      "(32, 32000, 1)\n",
      "++++++++++++++++++++++++++++++++++++\n",
      "[7 4 7 6 7 0 3 1 2 2 7 0 4 2 2 7 4 7 0 2 2 2 3 3 4 7 2 2 2 3 3 3]\n",
      "(32, 32000, 1)\n",
      "++++++++++++++++++++++++++++++++++++\n",
      "[2 3 7 4 1 5 2 3 2 2 7 7 2 4 3 2 3 4 2 3 1 2 4 7 2 2 4 2 2 0 2 2]\n",
      "(32, 32000, 1)\n",
      "++++++++++++++++++++++++++++++++++++\n",
      "[2 2 2 7 3 4 4 4 2 4 7 0 3 0 0 0 7 0 7 7 1 4 3 3 1 1 2 1 4 4 2 7]\n"
     ]
    }
   ],
   "source": [
    "model.fit_generator(train_generator(tr_files), steps_per_epoch=len(tr_files)//batch_size, epochs=5,\n",
    "                   use_multiprocessing=True, workers=4, max_queue_size=10)"
   ]
  },
  {
   "cell_type": "code",
   "execution_count": null,
   "metadata": {},
   "outputs": [],
   "source": [
    "list_preds = []\n"
   ]
  },
  {
   "cell_type": "code",
   "execution_count": null,
   "metadata": {},
   "outputs": [],
   "source": [
    "for batch_files in tqdm(chunker(val_files, size=batch_size), total=len(val_files)//batch_size ):\n",
    "    batch_data = [load_audio_file(fpath) for fpath in batch_files]\n",
    "    batch_data = np.array(batch_data)[:,:,np.newaxis]\n",
    "    preds = model.predict(batch_data).tolist()\n",
    "    list_preds += preds            "
   ]
  },
  {
   "cell_type": "code",
   "execution_count": null,
   "metadata": {},
   "outputs": [],
   "source": [
    "array_preds = np.array(list_preds)"
   ]
  },
  {
   "cell_type": "code",
   "execution_count": null,
   "metadata": {},
   "outputs": [],
   "source": [
    "len(list_preds)"
   ]
  },
  {
   "cell_type": "code",
   "execution_count": null,
   "metadata": {},
   "outputs": [],
   "source": [
    "list_preds"
   ]
  },
  {
   "cell_type": "code",
   "execution_count": null,
   "metadata": {},
   "outputs": [],
   "source": [
    "list_labels = np.array(list_labels)"
   ]
  },
  {
   "cell_type": "code",
   "execution_count": null,
   "metadata": {},
   "outputs": [],
   "source": [
    "len(list_labels)"
   ]
  },
  {
   "cell_type": "code",
   "execution_count": null,
   "metadata": {},
   "outputs": [],
   "source": [
    "top_1 = list_labels[np.argsort(-array_preds, axis=1)[:, :1]]\n",
    "pred_labels = [label_to_int[' '.join(list(x))] for x in top_1]\n",
    "true_labels = [label_to_int[file_to_label[x]] for x in val_files]"
   ]
  },
  {
   "cell_type": "code",
   "execution_count": null,
   "metadata": {},
   "outputs": [],
   "source": [
    "from sklearn.metrics import roc_auc_score, f1_score, classification_report"
   ]
  },
  {
   "cell_type": "code",
   "execution_count": null,
   "metadata": {},
   "outputs": [],
   "source": [
    "list_labels"
   ]
  },
  {
   "cell_type": "code",
   "execution_count": null,
   "metadata": {},
   "outputs": [],
   "source": [
    "print(classification_report(true_labels, pred_labels, target_names=list(list_labels)))"
   ]
  },
  {
   "cell_type": "code",
   "execution_count": null,
   "metadata": {},
   "outputs": [],
   "source": [
    "f1_score(pred_labels, true_labels, average='macro')"
   ]
  },
  {
   "cell_type": "code",
   "execution_count": null,
   "metadata": {
    "scrolled": true
   },
   "outputs": [],
   "source": [
    "true_labels[:10]"
   ]
  },
  {
   "cell_type": "code",
   "execution_count": null,
   "metadata": {},
   "outputs": [],
   "source": [
    "df = pd.DataFrame(test_files, columns=[\"fname\"])\n",
    "df['label'] = pred_labels"
   ]
  },
  {
   "cell_type": "code",
   "execution_count": null,
   "metadata": {},
   "outputs": [],
   "source": [
    "df['fname'] = df.fname.apply(lambda x: x.split(\"/\")[-1])"
   ]
  }
 ],
 "metadata": {
  "anaconda-cloud": {},
  "kernelspec": {
   "display_name": "Python [conda env:anaconda3]",
   "language": "python",
   "name": "conda-env-anaconda3-py"
  },
  "language_info": {
   "codemirror_mode": {
    "name": "ipython",
    "version": 3
   },
   "file_extension": ".py",
   "mimetype": "text/x-python",
   "name": "python",
   "nbconvert_exporter": "python",
   "pygments_lexer": "ipython3",
   "version": "3.5.5"
  }
 },
 "nbformat": 4,
 "nbformat_minor": 1
}
