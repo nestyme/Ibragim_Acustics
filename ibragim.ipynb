{
 "cells": [
  {
   "cell_type": "code",
   "execution_count": 14,
   "metadata": {},
   "outputs": [
    {
     "data": {
      "text/plain": [
       "array(['background', 'bags', 'door', 'keyboard', 'knocking_door', 'ring',\n",
       "       'speech', 'tool'], dtype=object)"
      ]
     },
     "execution_count": 14,
     "metadata": {},
     "output_type": "execute_result"
    }
   ],
   "source": [
    "import pandas as pd\n",
    "import numpy as np\n",
    "data = pd.read_csv(\"./data_v_7_stc/meta/meta.txt\", sep=\"\\t\", header=None)\n",
    "np.unique(data.iloc[:,-1].values)"
   ]
  },
  {
   "cell_type": "code",
   "execution_count": 43,
   "metadata": {},
   "outputs": [
    {
     "data": {
      "text/plain": [
       "5563    door\n",
       "Name: 4, dtype: object"
      ]
     },
     "execution_count": 43,
     "metadata": {},
     "output_type": "execute_result"
    }
   ],
   "source": [
    "#data[np.array(data.iloc[:,0], dtype=\"str\") == 't_door_0068_time_stretch_5.wav']\n",
    "\n",
    "data[data[0] == 't_door_0068_time_stretch_5.wav'][4]"
   ]
  },
  {
   "cell_type": "code",
   "execution_count": 46,
   "metadata": {},
   "outputs": [
    {
     "data": {
      "text/plain": [
       "0                        background_0001.wav\n",
       "1         background_0001_time_stretch_0.wav\n",
       "2         background_0001_time_stretch_1.wav\n",
       "3        background_0001_time_stretch_10.wav\n",
       "4        background_0001_time_stretch_11.wav\n",
       "5        background_0001_time_stretch_12.wav\n",
       "6        background_0001_time_stretch_13.wav\n",
       "7         background_0001_time_stretch_2.wav\n",
       "8         background_0001_time_stretch_3.wav\n",
       "9         background_0001_time_stretch_4.wav\n",
       "10        background_0001_time_stretch_5.wav\n",
       "11        background_0001_time_stretch_6.wav\n",
       "12        background_0001_time_stretch_7.wav\n",
       "13        background_0001_time_stretch_8.wav\n",
       "14        background_0001_time_stretch_9.wav\n",
       "15                       background_0002.wav\n",
       "16        background_0002_time_stretch_0.wav\n",
       "17        background_0002_time_stretch_1.wav\n",
       "18       background_0002_time_stretch_10.wav\n",
       "19       background_0002_time_stretch_11.wav\n",
       "20       background_0002_time_stretch_12.wav\n",
       "21       background_0002_time_stretch_13.wav\n",
       "22        background_0002_time_stretch_2.wav\n",
       "23        background_0002_time_stretch_3.wav\n",
       "24        background_0002_time_stretch_4.wav\n",
       "25        background_0002_time_stretch_5.wav\n",
       "26        background_0002_time_stretch_6.wav\n",
       "27        background_0002_time_stretch_7.wav\n",
       "28        background_0002_time_stretch_8.wav\n",
       "29        background_0002_time_stretch_9.wav\n",
       "                        ...                 \n",
       "11277                          tool_1630.wav\n",
       "11278                          tool_1631.wav\n",
       "11279                          tool_1632.wav\n",
       "11280                          tool_1633.wav\n",
       "11281                          tool_1634.wav\n",
       "11282                          tool_1635.wav\n",
       "11283                          tool_1636.wav\n",
       "11284                          tool_1637.wav\n",
       "11285                          tool_1638.wav\n",
       "11286                          tool_1639.wav\n",
       "11287                          tool_1640.wav\n",
       "11288                          tool_1641.wav\n",
       "11289                          tool_1642.wav\n",
       "11290                          tool_1643.wav\n",
       "11291                          tool_1644.wav\n",
       "11292                          tool_1645.wav\n",
       "11293                          tool_1646.wav\n",
       "11294                          tool_1647.wav\n",
       "11295                          tool_1648.wav\n",
       "11296                          tool_1649.wav\n",
       "11297                          tool_1650.wav\n",
       "11298                          tool_1651.wav\n",
       "11299                          tool_1652.wav\n",
       "11300                          tool_1653.wav\n",
       "11301                          tool_1654.wav\n",
       "11302                          tool_1655.wav\n",
       "11303                          tool_1656.wav\n",
       "11304                          tool_1657.wav\n",
       "11305                          tool_1658.wav\n",
       "11306                          tool_1659.wav\n",
       "Name: 0, Length: 11307, dtype: object"
      ]
     },
     "execution_count": 46,
     "metadata": {},
     "output_type": "execute_result"
    }
   ],
   "source": [
    "data[0]"
   ]
  },
  {
   "cell_type": "code",
   "execution_count": 7,
   "metadata": {},
   "outputs": [
    {
     "data": {
      "image/png": "[encoded data removed]",
      "text/plain": [
       "<matplotlib.figure.Figure at 0x1c1958a400>"
      ]
     },
     "metadata": {},
     "output_type": "display_data"
    }
   ],
   "source": [
    "import matplotlib.pyplot as plt\n",
    "from scipy import signal\n",
    "from scipy.io import wavfile\n",
    "\n",
    "sample_rate, samples = wavfile.read('./data_v_7_stc/audio/ring_0115.wav')\n",
    "frequencies, times, spectrogram = signal.spectrogram(samples, sample_rate)\n",
    "\n",
    "plt.pcolormesh(times, frequencies, spectrogram)\n",
    "plt.imshow(spectrogram)\n",
    "plt.ylabel('Frequency [Hz]')\n",
    "plt.xlabel('Time [sec]')\n",
    "plt.show()"
   ]
  },
  {
   "cell_type": "code",
   "execution_count": 63,
   "metadata": {},
   "outputs": [
    {
     "name": "stdout",
     "output_type": "stream",
     "text": [
      "timebins:  296\n",
      "freqbins:  513\n"
     ]
    },
    {
     "name": "stderr",
     "output_type": "stream",
     "text": [
      "/Users/Pablo/anaconda/envs/venv/lib/python3.6/site-packages/matplotlib/pyplot.py:523: RuntimeWarning: More than 20 figures have been opened. Figures created through the pyplot interface (`matplotlib.pyplot.figure`) are retained until explicitly closed and may consume too much memory. (To control this warning, see the rcParam `figure.max_open_warning`).\n",
      "  max_open_warning, RuntimeWarning)\n"
     ]
    },
    {
     "name": "stdout",
     "output_type": "stream",
     "text": [
      "timebins:  431\n",
      "freqbins:  513\n",
      "timebins:  426\n",
      "freqbins:  513\n",
      "timebins:  481\n",
      "freqbins:  513\n"
     ]
    }
   ],
   "source": [
    "import numpy as np\n",
    "from matplotlib import pyplot as plt\n",
    "import scipy.io.wavfile as wav\n",
    "from numpy.lib import stride_tricks\n",
    "\n",
    "\n",
    "\"\"\" short time fourier transform of audio signal \"\"\"\n",
    "def stft(sig, frameSize, overlapFac=0.5, window=np.hanning):\n",
    "    win = window(frameSize)\n",
    "    hopSize = int(frameSize - np.floor(overlapFac * frameSize))\n",
    "\n",
    "    # zeros at beginning (thus center of 1st window should be for sample nr. 0)   \n",
    "    samples = np.append(np.zeros(int(np.floor(frameSize/2.0))), sig)    \n",
    "    # cols for windowing\n",
    "    cols = np.ceil( (len(samples) - frameSize) / float(hopSize)) + 1\n",
    "    # zeros at end (thus samples can be fully covered by frames)\n",
    "    samples = np.append(samples, np.zeros(frameSize))\n",
    "\n",
    "    frames = stride_tricks.as_strided(samples, shape=(int(cols), frameSize), strides=(samples.strides[0]*hopSize, samples.strides[0])).copy()\n",
    "    frames *= win\n",
    "\n",
    "    return np.fft.rfft(frames)    \n",
    "\n",
    "\"\"\" scale frequency axis logarithmically \"\"\"    \n",
    "def logscale_spec(spec, sr=44100, factor=20.):\n",
    "    timebins, freqbins = np.shape(spec)\n",
    "\n",
    "    scale = np.linspace(0, 1, freqbins) ** factor\n",
    "    scale *= (freqbins-1)/max(scale)\n",
    "    scale = np.unique(np.round(scale))\n",
    "\n",
    "    # create spectrogram with new freq bins\n",
    "    newspec = np.complex128(np.zeros([timebins, len(scale)]))\n",
    "    for i in range(0, len(scale)):        \n",
    "        if i == len(scale)-1:\n",
    "            newspec[:,i] = np.sum(spec[:,int(scale[i]):], axis=1)\n",
    "        else:        \n",
    "            newspec[:,i] = np.sum(spec[:,int(scale[i]):int(scale[i+1])], axis=1)\n",
    "\n",
    "    # list center freq of bins\n",
    "    allfreqs = np.abs(np.fft.fftfreq(freqbins*2, 1./sr)[:freqbins+1])\n",
    "    freqs = []\n",
    "    for i in range(0, len(scale)):\n",
    "        if i == len(scale)-1:\n",
    "            freqs += [np.mean(allfreqs[int(scale[i]):])]\n",
    "        else:\n",
    "            freqs += [np.mean(allfreqs[int(scale[i]):int(scale[i+1])])]\n",
    "\n",
    "    return newspec, freqs\n",
    "\n",
    "\"\"\" plot spectrogram\"\"\"\n",
    "def plotstft(audiopath, binsize=2**10, plotpath=None, colormap=\"jet\"):\n",
    "    samplerate, samples = wav.read(audiopath)\n",
    "\n",
    "    s = stft(samples, binsize)\n",
    "\n",
    "    sshow, freq = logscale_spec(s, factor=1.0, sr=samplerate)\n",
    "\n",
    "    ims = 20.*np.log10(np.abs(sshow)/10e-6) # amplitude to decibel\n",
    "\n",
    "    timebins, freqbins = np.shape(ims)\n",
    "\n",
    "    print(\"timebins: \", timebins)\n",
    "    print(\"freqbins: \", freqbins)\n",
    "\n",
    "    plt.figure(figsize=(15, 7.5))\n",
    "    plt.imshow(np.transpose(ims), origin=\"lower\", aspect=\"auto\", cmap=colormap, interpolation=\"none\")\n",
    "    plt.colorbar()\n",
    "\n",
    "    plt.xlabel(\"time (s)\")\n",
    "    plt.ylabel(\"frequency (hz)\")\n",
    "    plt.xlim([0, timebins-1])\n",
    "    plt.ylim([0, freqbins])\n",
    "\n",
    "    xlocs = np.float32(np.linspace(0, timebins-1, 5))\n",
    "    plt.xticks(xlocs, [\"%.02f\" % l for l in ((xlocs*len(samples)/timebins)+(0.5*binsize))/samplerate])\n",
    "    ylocs = np.int16(np.round(np.linspace(0, freqbins-1, 10)))\n",
    "    plt.yticks(ylocs, [\"%.02f\" % freq[i] for i in ylocs])\n",
    "\n",
    "    if plotpath:\n",
    "        plt.savefig(plotpath, bbox_inches=\"tight\", dpi=50)\n",
    "    else:\n",
    "        plt.show()\n",
    "\n",
    "    plt.clf()\n",
    "    #plt.savefig(ims)\n",
    "    return ims\n",
    "\n",
    "for i in range(4):\n",
    "    filepath = './data_v_7_stc/audio/' + data[0][i]\n",
    "    plotstft(filepath, plotpath='data[0][' + str(i) + ']')\n",
    "    #plt.savefig(ims)"
   ]
  },
  {
   "cell_type": "code",
   "execution_count": null,
   "metadata": {
    "collapsed": true
   },
   "outputs": [],
   "source": []
  }
 ],
 "metadata": {
  "kernelspec": {
   "display_name": "Python 3",
   "language": "python",
   "name": "python3"
  }
 },
 "nbformat": 4,
 "nbformat_minor": 2
}
