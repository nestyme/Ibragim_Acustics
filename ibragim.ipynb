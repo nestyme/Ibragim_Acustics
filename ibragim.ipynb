{
 "cells": [
  {
   "cell_type": "code",
   "execution_count": 112,
   "metadata": {},
   "outputs": [
    {
     "name": "stdout",
     "output_type": "stream",
     "text": [
      "['background' 'bags' 'door' 'keyboard' 'knocking_door' 'ring' 'speech'\n",
      " 'tool']\n"
     ]
    },
    {
     "name": "stderr",
     "output_type": "stream",
     "text": [
      "/Users/Pablo/anaconda/envs/venv/lib/python3.6/site-packages/tqdm/_monitor.py:89: TqdmSynchronisationWarning: Set changed size during iteration (see https://github.com/tqdm/tqdm/issues/481)\n",
      "  TqdmSynchronisationWarning)\n"
     ]
    }
   ],
   "source": [
    "import pandas as pd\n",
    "import numpy as np\n",
    "data = pd.read_csv(\"./meta/meta.txt\", sep=\"\\t\", header=None)\n",
    "types = np.unique(data.iloc[:,-1].values)\n",
    "print(types)"
   ]
  },
  {
   "cell_type": "code",
   "execution_count": 8,
   "metadata": {},
   "outputs": [
    {
     "data": {
      "text/plain": [
       "8675    ring\n",
       "Name: 4, dtype: object"
      ]
     },
     "execution_count": 8,
     "metadata": {},
     "output_type": "execute_result"
    }
   ],
   "source": [
    "#data[np.array(data.iloc[:,0], dtype=\"str\") == 't_door_0068_time_stretch_5.wav']\n",
    "\n",
    "data[data[0] == 'ring_0017.wav'][4]"
   ]
  },
  {
   "cell_type": "code",
   "execution_count": 9,
   "metadata": {},
   "outputs": [
    {
     "data": {
      "text/html": [
       "<div>\n",
       "<style>\n",
       "    .dataframe thead tr:only-child th {\n",
       "        text-align: right;\n",
       "    }\n",
       "\n",
       "    .dataframe thead th {\n",
       "        text-align: left;\n",
       "    }\n",
       "\n",
       "    .dataframe tbody tr th {\n",
       "        vertical-align: top;\n",
       "    }\n",
       "</style>\n",
       "<table border=\"1\" class=\"dataframe\">\n",
       "  <thead>\n",
       "    <tr style=\"text-align: right;\">\n",
       "      <th></th>\n",
       "      <th>0</th>\n",
       "      <th>1</th>\n",
       "      <th>2</th>\n",
       "      <th>3</th>\n",
       "      <th>4</th>\n",
       "    </tr>\n",
       "  </thead>\n",
       "  <tbody>\n",
       "    <tr>\n",
       "      <th>0</th>\n",
       "      <td>background_0001.wav</td>\n",
       "      <td>office</td>\n",
       "      <td>0</td>\n",
       "      <td>9.458500</td>\n",
       "      <td>background</td>\n",
       "    </tr>\n",
       "    <tr>\n",
       "      <th>1</th>\n",
       "      <td>background_0001_time_stretch_0.wav</td>\n",
       "      <td>office</td>\n",
       "      <td>0</td>\n",
       "      <td>9.989070</td>\n",
       "      <td>background</td>\n",
       "    </tr>\n",
       "    <tr>\n",
       "      <th>2</th>\n",
       "      <td>background_0001_time_stretch_1.wav</td>\n",
       "      <td>office</td>\n",
       "      <td>0</td>\n",
       "      <td>9.879410</td>\n",
       "      <td>background</td>\n",
       "    </tr>\n",
       "    <tr>\n",
       "      <th>3</th>\n",
       "      <td>background_0001_time_stretch_10.wav</td>\n",
       "      <td>office</td>\n",
       "      <td>0</td>\n",
       "      <td>11.156553</td>\n",
       "      <td>background</td>\n",
       "    </tr>\n",
       "    <tr>\n",
       "      <th>4</th>\n",
       "      <td>background_0001_time_stretch_11.wav</td>\n",
       "      <td>office</td>\n",
       "      <td>0</td>\n",
       "      <td>13.261587</td>\n",
       "      <td>background</td>\n",
       "    </tr>\n",
       "  </tbody>\n",
       "</table>\n",
       "</div>"
      ],
      "text/plain": [
       "                                     0       1  2          3           4\n",
       "0                  background_0001.wav  office  0   9.458500  background\n",
       "1   background_0001_time_stretch_0.wav  office  0   9.989070  background\n",
       "2   background_0001_time_stretch_1.wav  office  0   9.879410  background\n",
       "3  background_0001_time_stretch_10.wav  office  0  11.156553  background\n",
       "4  background_0001_time_stretch_11.wav  office  0  13.261587  background"
      ]
     },
     "execution_count": 9,
     "metadata": {},
     "output_type": "execute_result"
    }
   ],
   "source": [
    "data.head()"
   ]
  },
  {
   "cell_type": "code",
   "execution_count": 10,
   "metadata": {},
   "outputs": [
    {
     "data": {
      "text/html": [
       "<div>\n",
       "<style>\n",
       "    .dataframe thead tr:only-child th {\n",
       "        text-align: right;\n",
       "    }\n",
       "\n",
       "    .dataframe thead th {\n",
       "        text-align: left;\n",
       "    }\n",
       "\n",
       "    .dataframe tbody tr th {\n",
       "        vertical-align: top;\n",
       "    }\n",
       "</style>\n",
       "<table border=\"1\" class=\"dataframe\">\n",
       "  <thead>\n",
       "    <tr style=\"text-align: right;\">\n",
       "      <th></th>\n",
       "      <th>name</th>\n",
       "      <th>x</th>\n",
       "      <th>y</th>\n",
       "      <th>z</th>\n",
       "      <th>type</th>\n",
       "    </tr>\n",
       "  </thead>\n",
       "  <tbody>\n",
       "    <tr>\n",
       "      <th>0</th>\n",
       "      <td>background_0001.wav</td>\n",
       "      <td>office</td>\n",
       "      <td>0</td>\n",
       "      <td>9.458500</td>\n",
       "      <td>background</td>\n",
       "    </tr>\n",
       "    <tr>\n",
       "      <th>1</th>\n",
       "      <td>background_0001_time_stretch_0.wav</td>\n",
       "      <td>office</td>\n",
       "      <td>0</td>\n",
       "      <td>9.989070</td>\n",
       "      <td>background</td>\n",
       "    </tr>\n",
       "    <tr>\n",
       "      <th>2</th>\n",
       "      <td>background_0001_time_stretch_1.wav</td>\n",
       "      <td>office</td>\n",
       "      <td>0</td>\n",
       "      <td>9.879410</td>\n",
       "      <td>background</td>\n",
       "    </tr>\n",
       "    <tr>\n",
       "      <th>3</th>\n",
       "      <td>background_0001_time_stretch_10.wav</td>\n",
       "      <td>office</td>\n",
       "      <td>0</td>\n",
       "      <td>11.156553</td>\n",
       "      <td>background</td>\n",
       "    </tr>\n",
       "    <tr>\n",
       "      <th>4</th>\n",
       "      <td>background_0001_time_stretch_11.wav</td>\n",
       "      <td>office</td>\n",
       "      <td>0</td>\n",
       "      <td>13.261587</td>\n",
       "      <td>background</td>\n",
       "    </tr>\n",
       "  </tbody>\n",
       "</table>\n",
       "</div>"
      ],
      "text/plain": [
       "                                  name       x  y          z        type\n",
       "0                  background_0001.wav  office  0   9.458500  background\n",
       "1   background_0001_time_stretch_0.wav  office  0   9.989070  background\n",
       "2   background_0001_time_stretch_1.wav  office  0   9.879410  background\n",
       "3  background_0001_time_stretch_10.wav  office  0  11.156553  background\n",
       "4  background_0001_time_stretch_11.wav  office  0  13.261587  background"
      ]
     },
     "execution_count": 10,
     "metadata": {},
     "output_type": "execute_result"
    }
   ],
   "source": [
    "colums = ['name', 'x', 'y', 'z', 'type']\n",
    "data.columns = colums\n",
    "data.head()"
   ]
  },
  {
   "cell_type": "code",
   "execution_count": 11,
   "metadata": {},
   "outputs": [
    {
     "data": {
      "text/html": [
       "<div>\n",
       "<style>\n",
       "    .dataframe thead tr:only-child th {\n",
       "        text-align: right;\n",
       "    }\n",
       "\n",
       "    .dataframe thead th {\n",
       "        text-align: left;\n",
       "    }\n",
       "\n",
       "    .dataframe tbody tr th {\n",
       "        vertical-align: top;\n",
       "    }\n",
       "</style>\n",
       "<table border=\"1\" class=\"dataframe\">\n",
       "  <thead>\n",
       "    <tr style=\"text-align: right;\">\n",
       "      <th></th>\n",
       "      <th>name</th>\n",
       "      <th>type</th>\n",
       "    </tr>\n",
       "  </thead>\n",
       "  <tbody>\n",
       "    <tr>\n",
       "      <th>0</th>\n",
       "      <td>background_0001.wav</td>\n",
       "      <td>background</td>\n",
       "    </tr>\n",
       "    <tr>\n",
       "      <th>1</th>\n",
       "      <td>background_0001_time_stretch_0.wav</td>\n",
       "      <td>background</td>\n",
       "    </tr>\n",
       "    <tr>\n",
       "      <th>2</th>\n",
       "      <td>background_0001_time_stretch_1.wav</td>\n",
       "      <td>background</td>\n",
       "    </tr>\n",
       "    <tr>\n",
       "      <th>3</th>\n",
       "      <td>background_0001_time_stretch_10.wav</td>\n",
       "      <td>background</td>\n",
       "    </tr>\n",
       "    <tr>\n",
       "      <th>4</th>\n",
       "      <td>background_0001_time_stretch_11.wav</td>\n",
       "      <td>background</td>\n",
       "    </tr>\n",
       "  </tbody>\n",
       "</table>\n",
       "</div>"
      ],
      "text/plain": [
       "                                  name        type\n",
       "0                  background_0001.wav  background\n",
       "1   background_0001_time_stretch_0.wav  background\n",
       "2   background_0001_time_stretch_1.wav  background\n",
       "3  background_0001_time_stretch_10.wav  background\n",
       "4  background_0001_time_stretch_11.wav  background"
      ]
     },
     "execution_count": 11,
     "metadata": {},
     "output_type": "execute_result"
    }
   ],
   "source": [
    "data = data.drop(['x', 'y', 'z'], axis=1)\n",
    "data.head()"
   ]
  },
  {
   "cell_type": "code",
   "execution_count": 34,
   "metadata": {},
   "outputs": [
    {
     "name": "stdout",
     "output_type": "stream",
     "text": [
      "background\n",
      "bags\n",
      "door\n",
      "8\n"
     ]
    },
    {
     "name": "stderr",
     "output_type": "stream",
     "text": [
      "/Users/Pablo/anaconda/envs/venv/lib/python3.6/site-packages/tqdm/_monitor.py:89: TqdmSynchronisationWarning: Set changed size during iteration (see https://github.com/tqdm/tqdm/issues/481)\n",
      "  TqdmSynchronisationWarning)\n"
     ]
    }
   ],
   "source": [
    "print(data['type'][1125])\n",
    "print(data['type'][2361])\n",
    "print(data['type'][2363])\n",
    "print(len(types))"
   ]
  },
  {
   "cell_type": "code",
   "execution_count": 13,
   "metadata": {},
   "outputs": [
    {
     "name": "stdout",
     "output_type": "stream",
     "text": [
      "name    1126\n",
      "type    1126\n",
      "dtype: int64\n",
      "name    1236\n",
      "type    1236\n",
      "dtype: int64\n",
      "name    3416\n",
      "type    3416\n",
      "dtype: int64\n",
      "name    1225\n",
      "type    1225\n",
      "dtype: int64\n",
      "name    1656\n",
      "type    1656\n",
      "dtype: int64\n",
      "name    713\n",
      "type    713\n",
      "dtype: int64\n",
      "name    276\n",
      "type    276\n",
      "dtype: int64\n",
      "name    1659\n",
      "type    1659\n",
      "dtype: int64\n"
     ]
    }
   ],
   "source": [
    "for i in range(len(types)):\n",
    "    print(data[data['type'] == types[i]].count())\n",
    "    #count.append(data[data[4] == types[i]].count())\n",
    "    #print(data.groupby('type').sum())"
   ]
  },
  {
   "cell_type": "code",
   "execution_count": 4,
   "metadata": {},
   "outputs": [
    {
     "data": {
      "image/png": "[encoded data removed]",
      "text/plain": [
       "<matplotlib.figure.Figure at 0x10ce73da0>"
      ]
     },
     "metadata": {},
     "output_type": "display_data"
    }
   ],
   "source": [
    "import matplotlib.pyplot as plt\n",
    "from scipy import signal\n",
    "from scipy.io import wavfile\n",
    "\n",
    "sample_rate, samples = wavfile.read('./audio/ring_0115.wav')\n",
    "frequencies, times, spectrogram = signal.spectrogram(samples, sample_rate)\n",
    "\n",
    "plt.pcolormesh(times, frequencies, spectrogram)\n",
    "plt.imshow(spectrogram)\n",
    "plt.ylabel('Frequency [Hz]')\n",
    "plt.xlabel('Time [sec]')\n",
    "plt.show()"
   ]
  },
  {
   "cell_type": "code",
   "execution_count": 5,
   "metadata": {
    "collapsed": true
   },
   "outputs": [],
   "source": [
    "import numpy as np\n",
    "from matplotlib import pyplot as plt\n",
    "import scipy.io.wavfile as wav\n",
    "from numpy.lib import stride_tricks\n",
    "\n",
    "\n",
    "\"\"\" short time fourier transform of audio signal \"\"\"\n",
    "def stft(sig, frameSize, overlapFac=0.5, window=np.hanning):\n",
    "    win = window(frameSize)\n",
    "    hopSize = int(frameSize - np.floor(overlapFac * frameSize))\n",
    "\n",
    "    # zeros at beginning (thus center of 1st window should be for sample nr. 0)   \n",
    "    samples = np.append(np.zeros(int(np.floor(frameSize/2.0))), sig)    \n",
    "    # cols for windowing\n",
    "    cols = np.ceil( (len(samples) - frameSize) / float(hopSize)) + 1\n",
    "    # zeros at end (thus samples can be fully covered by frames)\n",
    "    samples = np.append(samples, np.zeros(frameSize))\n",
    "\n",
    "    frames = stride_tricks.as_strided(samples, shape=(int(cols), frameSize), strides=(samples.strides[0]*hopSize, samples.strides[0])).copy()\n",
    "    frames *= win\n",
    "\n",
    "    return np.fft.rfft(frames)    \n",
    "\n",
    "\"\"\" scale frequency axis logarithmically \"\"\"    \n",
    "def logscale_spec(spec, sr=44100, factor=20.):\n",
    "    timebins, freqbins = np.shape(spec)\n",
    "\n",
    "    scale = np.linspace(0, 1, freqbins) ** factor\n",
    "    scale *= (freqbins-1)/max(scale)\n",
    "    scale = np.unique(np.round(scale))\n",
    "\n",
    "    # create spectrogram with new freq bins\n",
    "    newspec = np.complex128(np.zeros([timebins, len(scale)]))\n",
    "    for i in range(0, len(scale)):        \n",
    "        if i == len(scale)-1:\n",
    "            newspec[:,i] = np.sum(spec[:,int(scale[i]):], axis=1)\n",
    "        else:        \n",
    "            newspec[:,i] = np.sum(spec[:,int(scale[i]):int(scale[i+1])], axis=1)\n",
    "\n",
    "    # list center freq of bins\n",
    "    allfreqs = np.abs(np.fft.fftfreq(freqbins*2, 1./sr)[:freqbins+1])\n",
    "    freqs = []\n",
    "    for i in range(0, len(scale)):\n",
    "        if i == len(scale)-1:\n",
    "            freqs += [np.mean(allfreqs[int(scale[i]):])]\n",
    "        else:\n",
    "            freqs += [np.mean(allfreqs[int(scale[i]):int(scale[i+1])])]\n",
    "\n",
    "    return newspec, freqs\n",
    "\n",
    "\"\"\" plot spectrogram\"\"\"\n",
    "def plotstft(audiopath, binsize=2**10, plotpath=None, colormap=\"jet\"):\n",
    "    samplerate, samples = wav.read(audiopath)\n",
    "\n",
    "    s = stft(samples, binsize)\n",
    "\n",
    "    sshow, freq = logscale_spec(s, factor=1.0, sr=samplerate)\n",
    "\n",
    "    ims = 20.*np.log10(np.abs(sshow)/10e-6) # amplitude to decibel\n",
    "\n",
    "    timebins, freqbins = np.shape(ims)\n",
    "\n",
    "    #print(\"timebins: \", timebins)\n",
    "    #print(\"freqbins: \", freqbins)\n",
    "\n",
    "    plt.figure(figsize=(15, 7.5))\n",
    "    plt.imshow(np.transpose(ims), origin=\"lower\", aspect=\"auto\", cmap=colormap, interpolation=\"none\")\n",
    "    #plt.colorbar()\n",
    "\n",
    "    #plt.xlabel(\"time (s)\")\n",
    "    #plt.ylabel(\"frequency (hz)\")\n",
    "    plt.xlim([0, timebins-1])\n",
    "    plt.ylim([0, freqbins])\n",
    "\n",
    "    xlocs = np.float32(np.linspace(0, timebins-1, 5))\n",
    "    plt.xticks(xlocs, [\"%.02f\" % l for l in ((xlocs*len(samples)/timebins)+(0.5*binsize))/samplerate])\n",
    "    ylocs = np.int16(np.round(np.linspace(0, freqbins-1, 10)))\n",
    "    plt.yticks(ylocs, [\"%.02f\" % freq[i] for i in ylocs])\n",
    "\n",
    "    if plotpath:\n",
    "        plt.savefig(plotpath, bbox_inches=\"tight\", dpi=300)\n",
    "    else:\n",
    "        plt.show()\n",
    "\n",
    "    plt.clf()\n",
    "    return ims\n",
    "\n",
    "for i in range(1):\n",
    "    filepath = './data_v_7_stc/audio/' + data[0][i]\n",
    "    #plotstft(filepath, plotpath='data[0][' + str(i) + ']')\n",
    "    plotstft(filepath, plotpath=str(data[0][i])[:-4])"
   ]
  },
  {
   "cell_type": "code",
   "execution_count": 15,
   "metadata": {},
   "outputs": [
    {
     "data": {
      "text/plain": [
       "'background_0001_time_stretch_12.wav'"
      ]
     },
     "execution_count": 15,
     "metadata": {},
     "output_type": "execute_result"
    }
   ],
   "source": [
    "count = {'background':1125,\n",
    "         'bags':1236,\n",
    "         'door':3416,\n",
    "         'keyboard':1225,\n",
    "         'knocking_door':1656,\n",
    "         'ring':713,\n",
    "         'speech':276,\n",
    "         'tool':1659}\n",
    "\n",
    "types = np.unique(data.iloc[:,-1].values)\n",
    "\n",
    "#for type in types:\n",
    "#    print(count[type])\n",
    "data['name'][5]"
   ]
  },
  {
   "cell_type": "code",
   "execution_count": 67,
   "metadata": {},
   "outputs": [
    {
     "name": "stderr",
     "output_type": "stream",
     "text": [
      "/Users/Pablo/anaconda/envs/venv/lib/python3.6/site-packages/tqdm/_monitor.py:89: TqdmSynchronisationWarning: Set changed size during iteration (see https://github.com/tqdm/tqdm/issues/481)\n",
      "  TqdmSynchronisationWarning)\n"
     ]
    },
    {
     "name": "stdout",
     "output_type": "stream",
     "text": [
      "0\n",
      "1125\n",
      "1126\n",
      "2361\n",
      "2362\n",
      "5777\n",
      "5778\n",
      "7002\n",
      "7003\n",
      "8658\n",
      "8659\n",
      "9371\n",
      "9372\n",
      "9647\n",
      "9648\n",
      "11306\n"
     ]
    }
   ],
   "source": [
    "from pydub import AudioSegment\n",
    "from tqdm import tqdm\n",
    "\n",
    "start = 0\n",
    "sound = []\n",
    "#for t in tqdm(range(10000)):\n",
    "for i in range(len(data)):\n",
    "    filepath = './audio/' + data['name'][i]\n",
    "    #print(data['name'][i])\n",
    "    sound.append(AudioSegment.from_wav(filepath))\n",
    "\n",
    "for type in types:\n",
    "    if start == 0: \n",
    "        print(start)\n",
    "        print(start+count[type])\n",
    "        for i in range(start, start+count[type]):\n",
    "            a = 4\n",
    "            if (i == start):\n",
    "                combined_sounds = sound[i]\n",
    "            else:\n",
    "                combined_sounds += sound[i]\n",
    "        start += count[type] + 1\n",
    "    else:\n",
    "        print(start)\n",
    "        print(start+count[type]-1)\n",
    "        for i in range(start, start+count[type]-1):\n",
    "            a = 5\n",
    "            if (i == start):\n",
    "                combined_sounds = sound[i]\n",
    "            else:\n",
    "                combined_sounds += sound[i]\n",
    "        start += count[type]\n",
    "    combined_sounds.export('./output/'+type+'.wav', format=\"wav\")"
   ]
  },
  {
   "cell_type": "code",
   "execution_count": 53,
   "metadata": {},
   "outputs": [
    {
     "name": "stdout",
     "output_type": "stream",
     "text": [
      "background\n",
      "bags\n",
      "speech\n",
      "tool\n",
      "11307\n",
      "start=0\n",
      "finish=1125\n",
      "start=1126\n",
      "finish=2361\n",
      "start=2362\n",
      "finish=5777\n",
      "start=5778\n",
      "finish=7002\n",
      "start=7003\n",
      "finish=8658\n",
      "start=8659\n",
      "finish=9371\n",
      "start=9372\n",
      "finish=9647\n",
      "start=9648\n",
      "finish=11306\n"
     ]
    },
    {
     "name": "stderr",
     "output_type": "stream",
     "text": [
      "/Users/Pablo/anaconda/envs/venv/lib/python3.6/site-packages/tqdm/_monitor.py:89: TqdmSynchronisationWarning: Set changed size during iteration (see https://github.com/tqdm/tqdm/issues/481)\n",
      "  TqdmSynchronisationWarning)\n"
     ]
    }
   ],
   "source": [
    "start = 0\n",
    "print(data['type'][9647])\n",
    "print(data['type'][9648])\n",
    "print(len(data))\n",
    "for type in types:\n",
    "    if start == 0:\n",
    "        print('start='+str(start))\n",
    "        print('finish='+str(start+count[type]))\n",
    "        start += count[type]+1\n",
    "    else:\n",
    "        print('start='+str(start))\n",
    "        print('finish='+str(start+count[type]-1))\n",
    "        start += count[type]"
   ]
  },
  {
   "cell_type": "code",
   "execution_count": 82,
   "metadata": {},
   "outputs": [
    {
     "name": "stderr",
     "output_type": "stream",
     "text": [
      "/Users/Pablo/anaconda/envs/venv/lib/python3.6/site-packages/tqdm/_monitor.py:89: TqdmSynchronisationWarning: Set changed size during iteration (see https://github.com/tqdm/tqdm/issues/481)\n",
      "  TqdmSynchronisationWarning)\n"
     ]
    }
   ],
   "source": [
    "meta = pd.read_csv(\"./meta/meta.txt\", sep=\"\\t\", header=None)"
   ]
  },
  {
   "cell_type": "code",
   "execution_count": 73,
   "metadata": {},
   "outputs": [
    {
     "name": "stderr",
     "output_type": "stream",
     "text": [
      "/Users/Pablo/anaconda/envs/venv/lib/python3.6/site-packages/tqdm/_monitor.py:89: TqdmSynchronisationWarning: Set changed size during iteration (see https://github.com/tqdm/tqdm/issues/481)\n",
      "  TqdmSynchronisationWarning)\n"
     ]
    }
   ],
   "source": [
    "for i in range(16):\n",
    "    t1 = 0 + i*600\n",
    "    t2 = t1 + 600\n",
    "    t1 = t1 * 1000 #Works in milliseconds\n",
    "    t2 = t2 * 1000\n",
    "    newAudio = AudioSegment.from_wav('./output/speech.wav')\n",
    "    newAudio = newAudio[t1:t2]\n",
    "    newAudio.export('speech'+str(i)+'.wav', format=\"wav\")\n",
    "    "
   ]
  },
  {
   "cell_type": "code",
   "execution_count": 74,
   "metadata": {},
   "outputs": [
    {
     "name": "stderr",
     "output_type": "stream",
     "text": [
      "/Users/Pablo/anaconda/envs/venv/lib/python3.6/site-packages/tqdm/_monitor.py:89: TqdmSynchronisationWarning: Set changed size during iteration (see https://github.com/tqdm/tqdm/issues/481)\n",
      "  TqdmSynchronisationWarning)\n"
     ]
    }
   ],
   "source": [
    "for i in range(15):\n",
    "    t1 = 0 + i*600\n",
    "    t2 = t1 + 600\n",
    "    t1 = t1 * 1000 #Works in milliseconds\n",
    "    t2 = t2 * 1000\n",
    "    newAudio = AudioSegment.from_wav('./output/ring.wav')\n",
    "    newAudio = newAudio[t1:t2]\n",
    "    newAudio.export('ring'+str(i)+'.wav', format=\"wav\")"
   ]
  },
  {
   "cell_type": "code",
   "execution_count": 75,
   "metadata": {},
   "outputs": [
    {
     "name": "stderr",
     "output_type": "stream",
     "text": [
      "/Users/Pablo/anaconda/envs/venv/lib/python3.6/site-packages/tqdm/_monitor.py:89: TqdmSynchronisationWarning: Set changed size during iteration (see https://github.com/tqdm/tqdm/issues/481)\n",
      "  TqdmSynchronisationWarning)\n"
     ]
    }
   ],
   "source": [
    "for i in range(10):\n",
    "    t1 = 0 + i*600\n",
    "    t2 = t1 + 600\n",
    "    t1 = t1 * 1000 #Works in milliseconds\n",
    "    t2 = t2 * 1000\n",
    "    newAudio = AudioSegment.from_wav('./output/background.wav')\n",
    "    newAudio = newAudio[t1:t2]\n",
    "    newAudio.export('background'+str(i)+'.wav', format=\"wav\")"
   ]
  },
  {
   "cell_type": "code",
   "execution_count": 76,
   "metadata": {},
   "outputs": [
    {
     "name": "stderr",
     "output_type": "stream",
     "text": [
      "/Users/Pablo/anaconda/envs/venv/lib/python3.6/site-packages/tqdm/_monitor.py:89: TqdmSynchronisationWarning: Set changed size during iteration (see https://github.com/tqdm/tqdm/issues/481)\n",
      "  TqdmSynchronisationWarning)\n"
     ]
    }
   ],
   "source": [
    "for i in range(12):\n",
    "    t1 = 0 + i*600\n",
    "    t2 = t1 + 600\n",
    "    t1 = t1 * 1000 #Works in milliseconds\n",
    "    t2 = t2 * 1000\n",
    "    newAudio = AudioSegment.from_wav('./output/bags.wav')\n",
    "    newAudio = newAudio[t1:t2]\n",
    "    newAudio.export('bags'+str(i)+'.wav', format=\"wav\")"
   ]
  },
  {
   "cell_type": "code",
   "execution_count": 77,
   "metadata": {
    "collapsed": true
   },
   "outputs": [],
   "source": [
    "for i in range(12):\n",
    "    t1 = 0 + i*600\n",
    "    t2 = t1 + 600\n",
    "    t1 = t1 * 1000 #Works in milliseconds\n",
    "    t2 = t2 * 1000\n",
    "    newAudio = AudioSegment.from_wav('./output/door.wav')\n",
    "    newAudio = newAudio[t1:t2]\n",
    "    newAudio.export('door'+str(i)+'.wav', format=\"wav\")"
   ]
  },
  {
   "cell_type": "code",
   "execution_count": 78,
   "metadata": {},
   "outputs": [
    {
     "name": "stderr",
     "output_type": "stream",
     "text": [
      "/Users/Pablo/anaconda/envs/venv/lib/python3.6/site-packages/tqdm/_monitor.py:89: TqdmSynchronisationWarning: Set changed size during iteration (see https://github.com/tqdm/tqdm/issues/481)\n",
      "  TqdmSynchronisationWarning)\n"
     ]
    }
   ],
   "source": [
    "for i in range(12):\n",
    "    t1 = 0 + i*600\n",
    "    t2 = t1 + 600\n",
    "    t1 = t1 * 1000 #Works in milliseconds\n",
    "    t2 = t2 * 1000\n",
    "    newAudio = AudioSegment.from_wav('./output/keyboard.wav')\n",
    "    newAudio = newAudio[t1:t2]\n",
    "    newAudio.export('keyboard'+str(i)+'.wav', format=\"wav\")"
   ]
  },
  {
   "cell_type": "code",
   "execution_count": 79,
   "metadata": {},
   "outputs": [
    {
     "name": "stderr",
     "output_type": "stream",
     "text": [
      "/Users/Pablo/anaconda/envs/venv/lib/python3.6/site-packages/tqdm/_monitor.py:89: TqdmSynchronisationWarning: Set changed size during iteration (see https://github.com/tqdm/tqdm/issues/481)\n",
      "  TqdmSynchronisationWarning)\n"
     ]
    }
   ],
   "source": [
    "for i in range(9):\n",
    "    t1 = 0 + i*600\n",
    "    t2 = t1 + 600\n",
    "    t1 = t1 * 1000 #Works in milliseconds\n",
    "    t2 = t2 * 1000\n",
    "    newAudio = AudioSegment.from_wav('./output/knocking_door.wav')\n",
    "    newAudio = newAudio[t1:t2]\n",
    "    newAudio.export('knocking_door'+str(i)+'.wav', format=\"wav\")"
   ]
  },
  {
   "cell_type": "code",
   "execution_count": 80,
   "metadata": {},
   "outputs": [
    {
     "name": "stderr",
     "output_type": "stream",
     "text": [
      "/Users/Pablo/anaconda/envs/venv/lib/python3.6/site-packages/tqdm/_monitor.py:89: TqdmSynchronisationWarning: Set changed size during iteration (see https://github.com/tqdm/tqdm/issues/481)\n",
      "  TqdmSynchronisationWarning)\n"
     ]
    }
   ],
   "source": [
    "for i in range(12):\n",
    "    t1 = 0 + i*600\n",
    "    t2 = t1 + 600\n",
    "    t1 = t1 * 1000 #Works in milliseconds\n",
    "    t2 = t2 * 1000\n",
    "    newAudio = AudioSegment.from_wav('./output/tool.wav')\n",
    "    newAudio = newAudio[t1:t2]\n",
    "    newAudio.export('tool'+str(i)+'.wav', format=\"wav\")\n",
    "    "
   ]
  },
  {
   "cell_type": "code",
   "execution_count": 81,
   "metadata": {},
   "outputs": [
    {
     "name": "stderr",
     "output_type": "stream",
     "text": [
      "/Users/Pablo/anaconda/envs/venv/lib/python3.6/site-packages/tqdm/_monitor.py:89: TqdmSynchronisationWarning: Set changed size during iteration (see https://github.com/tqdm/tqdm/issues/481)\n",
      "  TqdmSynchronisationWarning)\n"
     ]
    }
   ],
   "source": [
    "meta = pd.read_csv(\"./meta/meta.txt\", sep=\"\\t\", header=None)"
   ]
  },
  {
   "cell_type": "code",
   "execution_count": 108,
   "metadata": {},
   "outputs": [
    {
     "name": "stdout",
     "output_type": "stream",
     "text": [
      "total 4388808\r\n",
      "-rw-r--r--  1 Pablo  staff  26460044  6 май 13:33 background0.wav\r\n",
      "-rw-r--r--  1 Pablo  staff  26460044  6 май 13:33 background1.wav\r\n",
      "-rw-r--r--  1 Pablo  staff  26460044  6 май 13:33 background2.wav\r\n",
      "-rw-r--r--  1 Pablo  staff  26460044  6 май 13:33 background3.wav\r\n",
      "-rw-r--r--  1 Pablo  staff  26460044  6 май 13:33 background4.wav\r\n",
      "-rw-r--r--  1 Pablo  staff  26460044  6 май 13:33 background5.wav\r\n",
      "-rw-r--r--  1 Pablo  staff  26460044  6 май 13:33 background6.wav\r\n",
      "-rw-r--r--  1 Pablo  staff  26460044  6 май 13:33 background7.wav\r\n",
      "-rw-r--r--  1 Pablo  staff  26460044  6 май 13:33 background8.wav\r\n",
      "-rw-r--r--  1 Pablo  staff  26460044  6 май 13:33 background9.wav\r\n",
      "-rw-r--r--  1 Pablo  staff  26460044  6 май 13:33 bags0.wav\r\n",
      "-rw-r--r--  1 Pablo  staff  26460044  6 май 13:33 bags1.wav\r\n",
      "-rw-r--r--  1 Pablo  staff  26460044  6 май 13:33 bags10.wav\r\n",
      "-rw-r--r--  1 Pablo  staff  26460044  6 май 13:33 bags11.wav\r\n",
      "-rw-r--r--  1 Pablo  staff  26460044  6 май 13:33 bags2.wav\r\n",
      "-rw-r--r--  1 Pablo  staff  26460044  6 май 13:33 bags3.wav\r\n",
      "-rw-r--r--  1 Pablo  staff  26460044  6 май 13:33 bags4.wav\r\n",
      "-rw-r--r--  1 Pablo  staff  26460044  6 май 13:33 bags5.wav\r\n",
      "-rw-r--r--  1 Pablo  staff  26460044  6 май 13:33 bags6.wav\r\n",
      "-rw-r--r--  1 Pablo  staff  26460044  6 май 13:33 bags7.wav\r\n",
      "-rw-r--r--  1 Pablo  staff  26460044  6 май 13:33 bags8.wav\r\n",
      "-rw-r--r--  1 Pablo  staff  26460044  6 май 13:33 bags9.wav\r\n",
      "-rw-r--r--  1 Pablo  staff  26460044  6 май 13:33 door0.wav\r\n",
      "-rw-r--r--  1 Pablo  staff  26460044  6 май 13:33 door1.wav\r\n",
      "-rw-r--r--  1 Pablo  staff  18988974  6 май 13:33 door10.wav\r\n",
      "-rw-r--r--  1 Pablo  staff        44  6 май 13:33 door11.wav\r\n",
      "-rw-r--r--  1 Pablo  staff  26460044  6 май 13:33 door2.wav\r\n",
      "-rw-r--r--  1 Pablo  staff  26460044  6 май 13:33 door3.wav\r\n",
      "-rw-r--r--  1 Pablo  staff  26460044  6 май 13:33 door4.wav\r\n",
      "-rw-r--r--  1 Pablo  staff  26460044  6 май 13:33 door5.wav\r\n",
      "-rw-r--r--  1 Pablo  staff  26460044  6 май 13:33 door6.wav\r\n",
      "-rw-r--r--  1 Pablo  staff  26460044  6 май 13:33 door7.wav\r\n",
      "-rw-r--r--  1 Pablo  staff  26460044  6 май 13:33 door8.wav\r\n",
      "-rw-r--r--  1 Pablo  staff  26460044  6 май 13:33 door9.wav\r\n",
      "-rw-r--r--  1 Pablo  staff  26460044  6 май 13:33 keyboard0.wav\r\n",
      "-rw-r--r--  1 Pablo  staff  26460044  6 май 13:33 keyboard1.wav\r\n",
      "-rw-r--r--  1 Pablo  staff  26460044  6 май 13:33 keyboard10.wav\r\n",
      "-rw-r--r--  1 Pablo  staff  26460044  6 май 13:33 keyboard11.wav\r\n",
      "-rw-r--r--  1 Pablo  staff  26460044  6 май 13:33 keyboard2.wav\r\n",
      "-rw-r--r--  1 Pablo  staff  26460044  6 май 13:33 keyboard3.wav\r\n",
      "-rw-r--r--  1 Pablo  staff  26460044  6 май 13:33 keyboard4.wav\r\n",
      "-rw-r--r--  1 Pablo  staff  26460044  6 май 13:33 keyboard5.wav\r\n",
      "-rw-r--r--  1 Pablo  staff  26460044  6 май 13:33 keyboard6.wav\r\n",
      "-rw-r--r--  1 Pablo  staff  26460044  6 май 13:33 keyboard7.wav\r\n",
      "-rw-r--r--  1 Pablo  staff  26460044  6 май 13:33 keyboard8.wav\r\n",
      "-rw-r--r--  1 Pablo  staff  26460044  6 май 13:33 keyboard9.wav\r\n",
      "-rw-r--r--  1 Pablo  staff  26460044  6 май 13:33 knocking_door0.wav\r\n",
      "-rw-r--r--  1 Pablo  staff  26460044  6 май 13:33 knocking_door1.wav\r\n",
      "-rw-r--r--  1 Pablo  staff  26460044  6 май 13:33 knocking_door2.wav\r\n",
      "-rw-r--r--  1 Pablo  staff  26460044  6 май 13:33 knocking_door3.wav\r\n",
      "-rw-r--r--  1 Pablo  staff  26460044  6 май 13:33 knocking_door4.wav\r\n",
      "-rw-r--r--  1 Pablo  staff  26460044  6 май 13:33 knocking_door5.wav\r\n",
      "-rw-r--r--  1 Pablo  staff  26460044  6 май 13:33 knocking_door6.wav\r\n",
      "-rw-r--r--  1 Pablo  staff  26460044  6 май 13:33 knocking_door7.wav\r\n",
      "-rw-r--r--  1 Pablo  staff  26460044  6 май 13:33 knocking_door8.wav\r\n",
      "-rw-r--r--  1 Pablo  staff  19200044  6 май 13:33 ring0.wav\r\n",
      "-rw-r--r--  1 Pablo  staff  19200044  6 май 13:33 ring1.wav\r\n",
      "-rw-r--r--  1 Pablo  staff  19200044  6 май 13:33 ring10.wav\r\n",
      "-rw-r--r--  1 Pablo  staff  19200044  6 май 13:33 ring11.wav\r\n",
      "-rw-r--r--  1 Pablo  staff  19200044  6 май 13:33 ring12.wav\r\n",
      "-rw-r--r--  1 Pablo  staff  19200044  6 май 13:33 ring13.wav\r\n",
      "-rw-r--r--  1 Pablo  staff  19200044  6 май 13:33 ring14.wav\r\n",
      "-rw-r--r--  1 Pablo  staff  19200044  6 май 13:33 ring2.wav\r\n",
      "-rw-r--r--  1 Pablo  staff  19200044  6 май 13:33 ring3.wav\r\n",
      "-rw-r--r--  1 Pablo  staff  19200044  6 май 13:33 ring4.wav\r\n",
      "-rw-r--r--  1 Pablo  staff  19200044  6 май 13:33 ring5.wav\r\n",
      "-rw-r--r--  1 Pablo  staff  19200044  6 май 13:33 ring6.wav\r\n",
      "-rw-r--r--  1 Pablo  staff  19200044  6 май 13:33 ring7.wav\r\n",
      "-rw-r--r--  1 Pablo  staff  19200044  6 май 13:33 ring8.wav\r\n",
      "-rw-r--r--  1 Pablo  staff  19200044  6 май 13:33 ring9.wav\r\n",
      "-rw-r--r--  1 Pablo  staff  19200044  6 май 13:32 speech0.wav\r\n",
      "-rw-r--r--  1 Pablo  staff  19200044  6 май 13:32 speech1.wav\r\n",
      "-rw-r--r--  1 Pablo  staff  19200044  6 май 13:33 speech10.wav\r\n",
      "-rw-r--r--  1 Pablo  staff  19200044  6 май 13:33 speech11.wav\r\n",
      "-rw-r--r--  1 Pablo  staff  19200044  6 май 13:33 speech12.wav\r\n",
      "-rw-r--r--  1 Pablo  staff  19200044  6 май 13:33 speech13.wav\r\n",
      "-rw-r--r--  1 Pablo  staff  19200044  6 май 13:33 speech14.wav\r\n",
      "-rw-r--r--  1 Pablo  staff  19200044  6 май 13:33 speech15.wav\r\n",
      "-rw-r--r--  1 Pablo  staff  19200044  6 май 13:32 speech2.wav\r\n",
      "-rw-r--r--  1 Pablo  staff  19200044  6 май 13:32 speech3.wav\r\n",
      "-rw-r--r--  1 Pablo  staff  19200044  6 май 13:32 speech4.wav\r\n",
      "-rw-r--r--  1 Pablo  staff  19200044  6 май 13:32 speech5.wav\r\n",
      "-rw-r--r--  1 Pablo  staff  19200044  6 май 13:32 speech6.wav\r\n",
      "-rw-r--r--  1 Pablo  staff  19200044  6 май 13:33 speech7.wav\r\n",
      "-rw-r--r--  1 Pablo  staff  19200044  6 май 13:33 speech8.wav\r\n",
      "-rw-r--r--  1 Pablo  staff  19200044  6 май 13:33 speech9.wav\r\n",
      "-rw-r--r--  1 Pablo  staff  19200044  6 май 13:33 tool0.wav\r\n",
      "-rw-r--r--  1 Pablo  staff  19200044  6 май 13:33 tool1.wav\r\n",
      "-rw-r--r--  1 Pablo  staff  19200044  6 май 13:34 tool10.wav\r\n",
      "-rw-r--r--  1 Pablo  staff  19200044  6 май 13:34 tool11.wav\r\n",
      "-rw-r--r--  1 Pablo  staff  19200044  6 май 13:33 tool2.wav\r\n",
      "-rw-r--r--  1 Pablo  staff  19200044  6 май 13:33 tool3.wav\r\n",
      "-rw-r--r--  1 Pablo  staff  19200044  6 май 13:33 tool4.wav\r\n",
      "-rw-r--r--  1 Pablo  staff  19200044  6 май 13:34 tool5.wav\r\n",
      "-rw-r--r--  1 Pablo  staff  19200044  6 май 13:34 tool6.wav\r\n",
      "-rw-r--r--  1 Pablo  staff  19200044  6 май 13:34 tool7.wav\r\n",
      "-rw-r--r--  1 Pablo  staff  19200044  6 май 13:34 tool8.wav\r\n",
      "-rw-r--r--  1 Pablo  staff  19200044  6 май 13:34 tool9.wav\r\n"
     ]
    },
    {
     "name": "stderr",
     "output_type": "stream",
     "text": [
      "/Users/Pablo/anaconda/envs/venv/lib/python3.6/site-packages/tqdm/_monitor.py:89: TqdmSynchronisationWarning: Set changed size during iteration (see https://github.com/tqdm/tqdm/issues/481)\n",
      "  TqdmSynchronisationWarning)\n"
     ]
    }
   ],
   "source": [
    "!ls -l new"
   ]
  },
  {
   "cell_type": "code",
   "execution_count": 109,
   "metadata": {},
   "outputs": [
    {
     "name": "stdout",
     "output_type": "stream",
     "text": [
      "background0.wav\r\n",
      "background1.wav\r\n",
      "background2.wav\r\n",
      "background3.wav\r\n",
      "background4.wav\r\n",
      "background5.wav\r\n",
      "background6.wav\r\n",
      "background7.wav\r\n",
      "background8.wav\r\n",
      "background9.wav\r\n",
      "bags0.wav\r\n",
      "bags1.wav\r\n",
      "bags10.wav\r\n",
      "bags11.wav\r\n",
      "bags2.wav\r\n",
      "bags3.wav\r\n",
      "bags4.wav\r\n",
      "bags5.wav\r\n",
      "bags6.wav\r\n",
      "bags7.wav\r\n",
      "bags8.wav\r\n",
      "bags9.wav\r\n",
      "door0.wav\r\n",
      "door1.wav\r\n",
      "door10.wav\r\n",
      "door11.wav\r\n",
      "door2.wav\r\n",
      "door3.wav\r\n",
      "door4.wav\r\n",
      "door5.wav\r\n",
      "door6.wav\r\n",
      "door7.wav\r\n",
      "door8.wav\r\n",
      "door9.wav\r\n",
      "keyboard0.wav\r\n",
      "keyboard1.wav\r\n",
      "keyboard10.wav\r\n",
      "keyboard11.wav\r\n",
      "keyboard2.wav\r\n",
      "keyboard3.wav\r\n",
      "keyboard4.wav\r\n",
      "keyboard5.wav\r\n",
      "keyboard6.wav\r\n",
      "keyboard7.wav\r\n",
      "keyboard8.wav\r\n",
      "keyboard9.wav\r\n",
      "knocking_door0.wav\r\n",
      "knocking_door1.wav\r\n",
      "knocking_door2.wav\r\n",
      "knocking_door3.wav\r\n",
      "knocking_door4.wav\r\n",
      "knocking_door5.wav\r\n",
      "knocking_door6.wav\r\n",
      "knocking_door7.wav\r\n",
      "knocking_door8.wav\r\n",
      "ring0.wav\r\n",
      "ring1.wav\r\n",
      "ring10.wav\r\n",
      "ring11.wav\r\n",
      "ring12.wav\r\n",
      "ring13.wav\r\n",
      "ring14.wav\r\n",
      "ring2.wav\r\n",
      "ring3.wav\r\n",
      "ring4.wav\r\n",
      "ring5.wav\r\n",
      "ring6.wav\r\n",
      "ring7.wav\r\n",
      "ring8.wav\r\n",
      "ring9.wav\r\n",
      "speech0.wav\r\n",
      "speech1.wav\r\n",
      "speech10.wav\r\n",
      "speech11.wav\r\n",
      "speech12.wav\r\n",
      "speech13.wav\r\n",
      "speech14.wav\r\n",
      "speech15.wav\r\n",
      "speech2.wav\r\n",
      "speech3.wav\r\n",
      "speech4.wav\r\n",
      "speech5.wav\r\n",
      "speech6.wav\r\n",
      "speech7.wav\r\n",
      "speech8.wav\r\n",
      "speech9.wav\r\n",
      "tool0.wav\r\n",
      "tool1.wav\r\n",
      "tool10.wav\r\n",
      "tool11.wav\r\n",
      "tool2.wav\r\n",
      "tool3.wav\r\n",
      "tool4.wav\r\n",
      "tool5.wav\r\n",
      "tool6.wav\r\n",
      "tool7.wav\r\n",
      "tool8.wav\r\n",
      "tool9.wav\r\n"
     ]
    },
    {
     "name": "stderr",
     "output_type": "stream",
     "text": [
      "/Users/Pablo/anaconda/envs/venv/lib/python3.6/site-packages/tqdm/_monitor.py:89: TqdmSynchronisationWarning: Set changed size during iteration (see https://github.com/tqdm/tqdm/issues/481)\n",
      "  TqdmSynchronisationWarning)\n"
     ]
    }
   ],
   "source": [
    "!ls -l new | sed -n 's/.*3[0-9]\\ \\(.*\\)/\\1/p'"
   ]
  },
  {
   "cell_type": "code",
   "execution_count": 130,
   "metadata": {},
   "outputs": [
    {
     "name": "stdout",
     "output_type": "stream",
     "text": [
      "(11307, 2)\n",
      "(11405, 2)\n"
     ]
    },
    {
     "name": "stderr",
     "output_type": "stream",
     "text": [
      "/Users/Pablo/anaconda/envs/venv/lib/python3.6/site-packages/tqdm/_monitor.py:89: TqdmSynchronisationWarning: Set changed size during iteration (see https://github.com/tqdm/tqdm/issues/481)\n",
      "  TqdmSynchronisationWarning)\n"
     ]
    }
   ],
   "source": [
    "meta = pd.read_csv(\"./meta/meta.txt\", sep=\"\\t\", header=None)\n",
    "meta = meta.drop([1, 2, 3], axis=1)\n",
    "meta.columns = [0, 1]\n",
    "new_meta = pd.read_csv(\"./meta/new.txt\", sep=\" \", header=None)\n",
    "data = pd.concat([meta, new_meta])\n",
    "print(meta.shape)\n",
    "print(data.shape)"
   ]
  },
  {
   "cell_type": "code",
   "execution_count": null,
   "metadata": {
    "collapsed": true
   },
   "outputs": [],
   "source": []
  }
 ],
 "metadata": {
  "kernelspec": {
   "display_name": "Python 3",
   "language": "python",
   "name": "python3"
  },
  "language_info": {
   "codemirror_mode": {
    "name": "ipython",
    "version": 3
   },
   "file_extension": ".py",
   "mimetype": "text/x-python",
   "name": "python",
   "nbconvert_exporter": "python",
   "pygments_lexer": "ipython3",
   "version": "3.6.3"
  }
 },
 "nbformat": 4,
 "nbformat_minor": 2
}
